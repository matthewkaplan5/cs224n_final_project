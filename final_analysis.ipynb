{
  "cells": [
    {
      "cell_type": "code",
      "execution_count": null,
      "metadata": {
        "id": "kKW2544b7sl3"
      },
      "outputs": [],
      "source": [
        "import pandas as pd\n",
        "import numpy as np\n",
        "import matplotlib.pyplot as plt\n",
        "import os\n",
        "\n",
        "import nltk\n",
        "from nltk.tokenize import word_tokenize\n",
        "\n",
        "import spacy\n",
        "from spacy import displacy\n",
        "from collections import Counter\n",
        "import en_core_web_sm\n",
        "nlp = en_core_web_sm.load()\n",
        "\n",
        "os.chdir(\"/Users/janieboettcher/Desktop/cs224n/project/cs224n_final_project/\")"
      ]
    },
    {
      "cell_type": "markdown",
      "metadata": {
        "id": "zRMqA14W7sl8"
      },
      "source": [
        "# Dataset description\n",
        "Using train and test datasets, create bar graphs comparing the following\n",
        "* frequency of question types\n",
        "* context lengths \n",
        "* question lengths\n",
        "* answer lengths \n"
      ]
    },
    {
      "cell_type": "code",
      "execution_count": null,
      "metadata": {
        "id": "HKiWTm9P7smA",
        "outputId": "76a8e761-5a09-476a-a449-a06a593e80b0"
      },
      "outputs": [
        {
          "data": {
            "text/html": [
              "<div>\n",
              "<style scoped>\n",
              "    .dataframe tbody tr th:only-of-type {\n",
              "        vertical-align: middle;\n",
              "    }\n",
              "\n",
              "    .dataframe tbody tr th {\n",
              "        vertical-align: top;\n",
              "    }\n",
              "\n",
              "    .dataframe thead th {\n",
              "        text-align: right;\n",
              "    }\n",
              "</style>\n",
              "<table border=\"1\" class=\"dataframe\">\n",
              "  <thead>\n",
              "    <tr style=\"text-align: right;\">\n",
              "      <th></th>\n",
              "      <th>answers</th>\n",
              "      <th>context</th>\n",
              "      <th>question</th>\n",
              "      <th>spans</th>\n",
              "      <th>Id</th>\n",
              "    </tr>\n",
              "  </thead>\n",
              "  <tbody>\n",
              "    <tr>\n",
              "      <th>1</th>\n",
              "      <td>[in the late 1990s]</td>\n",
              "      <td>Beyoncé Giselle Knowles-Carter (/biːˈjɒnseɪ/ b...</td>\n",
              "      <td>When did Beyonce start becoming popular?</td>\n",
              "      <td>[[0, 7], [8, 15], [16, 23], [23, 24], [24, 30]...</td>\n",
              "      <td>56be85543aeaaa14008c9063</td>\n",
              "    </tr>\n",
              "    <tr>\n",
              "      <th>2</th>\n",
              "      <td>[singing and dancing]</td>\n",
              "      <td>Beyoncé Giselle Knowles-Carter (/biːˈjɒnseɪ/ b...</td>\n",
              "      <td>What areas did Beyonce compete in when she was...</td>\n",
              "      <td>[[0, 7], [8, 15], [16, 23], [23, 24], [24, 30]...</td>\n",
              "      <td>56be85543aeaaa14008c9065</td>\n",
              "    </tr>\n",
              "    <tr>\n",
              "      <th>3</th>\n",
              "      <td>[2003]</td>\n",
              "      <td>Beyoncé Giselle Knowles-Carter (/biːˈjɒnseɪ/ b...</td>\n",
              "      <td>When did Beyonce leave Destiny's Child and bec...</td>\n",
              "      <td>[[0, 7], [8, 15], [16, 23], [23, 24], [24, 30]...</td>\n",
              "      <td>56be85543aeaaa14008c9066</td>\n",
              "    </tr>\n",
              "    <tr>\n",
              "      <th>4</th>\n",
              "      <td>[Houston, Texas]</td>\n",
              "      <td>Beyoncé Giselle Knowles-Carter (/biːˈjɒnseɪ/ b...</td>\n",
              "      <td>In what city and state did Beyonce  grow up?</td>\n",
              "      <td>[[0, 7], [8, 15], [16, 23], [23, 24], [24, 30]...</td>\n",
              "      <td>56bf6b0f3aeaaa14008c9601</td>\n",
              "    </tr>\n",
              "    <tr>\n",
              "      <th>5</th>\n",
              "      <td>[late 1990s]</td>\n",
              "      <td>Beyoncé Giselle Knowles-Carter (/biːˈjɒnseɪ/ b...</td>\n",
              "      <td>In which decade did Beyonce become famous?</td>\n",
              "      <td>[[0, 7], [8, 15], [16, 23], [23, 24], [24, 30]...</td>\n",
              "      <td>56bf6b0f3aeaaa14008c9602</td>\n",
              "    </tr>\n",
              "  </tbody>\n",
              "</table>\n",
              "</div>"
            ],
            "text/plain": [
              "                 answers                                            context  \\\n",
              "1    [in the late 1990s]  Beyoncé Giselle Knowles-Carter (/biːˈjɒnseɪ/ b...   \n",
              "2  [singing and dancing]  Beyoncé Giselle Knowles-Carter (/biːˈjɒnseɪ/ b...   \n",
              "3                 [2003]  Beyoncé Giselle Knowles-Carter (/biːˈjɒnseɪ/ b...   \n",
              "4       [Houston, Texas]  Beyoncé Giselle Knowles-Carter (/biːˈjɒnseɪ/ b...   \n",
              "5           [late 1990s]  Beyoncé Giselle Knowles-Carter (/biːˈjɒnseɪ/ b...   \n",
              "\n",
              "                                            question  \\\n",
              "1           When did Beyonce start becoming popular?   \n",
              "2  What areas did Beyonce compete in when she was...   \n",
              "3  When did Beyonce leave Destiny's Child and bec...   \n",
              "4      In what city and state did Beyonce  grow up?    \n",
              "5         In which decade did Beyonce become famous?   \n",
              "\n",
              "                                               spans                        Id  \n",
              "1  [[0, 7], [8, 15], [16, 23], [23, 24], [24, 30]...  56be85543aeaaa14008c9063  \n",
              "2  [[0, 7], [8, 15], [16, 23], [23, 24], [24, 30]...  56be85543aeaaa14008c9065  \n",
              "3  [[0, 7], [8, 15], [16, 23], [23, 24], [24, 30]...  56be85543aeaaa14008c9066  \n",
              "4  [[0, 7], [8, 15], [16, 23], [23, 24], [24, 30]...  56bf6b0f3aeaaa14008c9601  \n",
              "5  [[0, 7], [8, 15], [16, 23], [23, 24], [24, 30]...  56bf6b0f3aeaaa14008c9602  "
            ]
          },
          "execution_count": 2,
          "metadata": {},
          "output_type": "execute_result"
        }
      ],
      "source": [
        "dev_truth = pd.read_json(\"data/dev_eval.json\").T\n",
        "dev_truth = dev_truth.rename(columns={\"uuid\":\"Id\"})\n",
        "train_truth = pd.read_json(\"data/train_eval.json\").T\n",
        "train_truth = train_truth.rename(columns={\"uuid\":\"Id\"})\n",
        "train_truth.head()"
      ]
    },
    {
      "cell_type": "code",
      "execution_count": null,
      "metadata": {
        "id": "uDLj7WXq7smB"
      },
      "outputs": [],
      "source": [
        "# Question types \n",
        "qtypes = [\"who\", \"when\", \"where\", \"what\", \"why\", \"which\", \"how\"]\n",
        "def qtype(question):\n",
        "    question_list = question.lower().split()\n",
        "    for qtype in qtypes:\n",
        "        if qtype in question_list:\n",
        "            return qtype\n",
        "    return \"other\"\n",
        "    \n",
        "def create_q_types(df):\n",
        "    questions = list(df.question)\n",
        "    df[\"question_type\"] = df.question.apply(lambda x: qtype(x))\n",
        "    return df\n",
        "\n",
        "def ave_ans_len(df):\n",
        "    # WE WILL MAKE ANSWER LENGTHS TO BE AVERAGE\n",
        "    result=[]\n",
        "    answers = list(df.answers)\n",
        "    for ans in answers:\n",
        "        if len(ans) > 0:\n",
        "            result.append(np.mean([len(a) for a in ans]))\n",
        "        else:\n",
        "            result.append(0)\n",
        "    df[\"ave_ans_len\"]=result\n",
        "    return df\n"
      ]
    },
    {
      "cell_type": "code",
      "execution_count": null,
      "metadata": {
        "id": "_-j7xzOZEv9p"
      },
      "outputs": [],
      "source": [
        "qtypes = [\"who\", \"when\", \"where\", \"what\", \"why\", \"which\", \"how\"]\n",
        "improved_qtypes = [\"person\", \"date\", \"thing\", \"location\", \"quantity\", \"description\", \"other\"]\n",
        "\n",
        "\n",
        "def determine_by_qword(question_list):\n",
        "    if \"who\" in question_list:\n",
        "        return [\"person\"]\n",
        "    elif \"when\" in question_list:\n",
        "        return [\"date\"]\n",
        "    elif \"where\" in question_list:\n",
        "        return [\"location\"]\n",
        "    elif \"why\" in question_list:\n",
        "        return [\"description\"]\n",
        "    elif \"how\" in question_list:\n",
        "        i = question_list.index(\"how\")\n",
        "    elif \"what\" in question_list:\n",
        "        i = question_list.index(\"what\")\n",
        "    elif \"which\" in question_list:\n",
        "        i = question_list.index(\"which\")\n",
        "    else:\n",
        "        return [\"other\"]\n",
        "    if i < len(question_list)-1:\n",
        "        return [question_list[i], question_list[i+1], i]\n",
        "    return [\"other\"]\n",
        "\n",
        "def determine_by_nextword(q_type):\n",
        "    if q_type[0] != \"how\":\n",
        "        loc_words = [\"city\", \"state\", \"place\", \"country\",\n",
        "             \"countries\", \"cities\", \"states\", \"places\", \n",
        "             \"areas\", \"area\", \"region\", \"regions\", \n",
        "             \"buildings\", \"building\", \"county\", \"counties\"]\n",
        "        \n",
        "        if q_type[1] in loc_words:\n",
        "            return [\"location\"]\n",
        "\n",
        "        date_words = [\"date\", \"year\", \"month\", \"day\", \n",
        "              \"dates\", \"years\", \"months\", \"days\", \n",
        "              \"hour\", \"hours\", \"decade\", \"decades\", \n",
        "              \"millennium\", \"millennia\", \"time\", \"times\", \n",
        "              \"era\", \"eras\"]\n",
        "        \n",
        "        if q_type[1] in date_words:\n",
        "            return [\"date\"]\n",
        "    else:\n",
        "        qnt_words = [\"much\", \"many\", \"long\", \"far\", \"heavy\", \"light\", \"short\"]\n",
        "        if q_type[1] in qnt_words:\n",
        "            return [\"quantity\"]\n",
        "        else:\n",
        "            tokenized = word_tokenize(q_type[0]+\" \"+q_type[1])\n",
        "            tokenized = nltk.pos_tag(tokenized)\n",
        "            if tokenized[1][1][:2] == 'VB':\n",
        "                return [\"description\"]\n",
        "            else:\n",
        "                return [\"quantity\"]\n",
        "    \n",
        "    return q_type\n",
        "    \n",
        "\n",
        "def improved_qtype(question):\n",
        "    question_list = question.lower().split()\n",
        "    q_type = determine_by_qword(question_list)\n",
        "    if len(q_type) == 1:\n",
        "        #print(q_type[0])\n",
        "        return q_type[0]\n",
        "    q_type = determine_by_nextword(q_type)\n",
        "    if len(q_type) == 1:\n",
        "        #print(q_type[0])\n",
        "        return q_type[0]\n",
        "    return None\n",
        "\n",
        "\n",
        "def improved_qtype_context(question, context, answers):\n",
        "    q_type = improved_qtype(question)\n",
        "    if q_type:\n",
        "        return q_type\n",
        "    \n",
        "    result_dict = {\"PERSON\":\"person\",\n",
        "                   \"NORP\": \"person\",\n",
        "                   \"FAC\": \"location\",\n",
        "                   \"GPE\": \"location\",\n",
        "                   \"LOC\": \"location\",\n",
        "                   \"EVENT\": \"location\",\n",
        "                   \"ORG\": \"thing\",\n",
        "                   \"PRODUCT\": \"thing\",\n",
        "                   \"WORK_OF_ART\": \"thing\",\n",
        "                   \"LAW\": \"thing\",\n",
        "                   \"LANGUAGE\": \"thing\",\n",
        "                   \"ORDINAL\": \"thing\",\n",
        "                   \"DATE\": \"date\",\n",
        "                   \"TIME\": \"date\",\n",
        "                   \"PERCENT\": \"quantity\",\n",
        "                   \"MONEY\": \"quantity\",\n",
        "                   \"QUANTITY\": \"quantity\",\n",
        "                   \"CARDINAL\": \"quantity\"}\n",
        "                   \n",
        "    if len(answers) > 0:\n",
        "        doc = nlp(context)\n",
        "        ent_text = [e.text for e in doc.ents]\n",
        "        ent_label = [e.label_ for e in doc.ents]\n",
        "        for ans in answers:\n",
        "            if ans in ent_text:\n",
        "                ent_type = ent_label[ent_text.index(ans)]\n",
        "                if ent_type in result_dict:\n",
        "                    return result_dict[ent_type]\n",
        "    return \"thing\"\n"
      ]
    },
    {
      "cell_type": "code",
      "execution_count": null,
      "metadata": {
        "id": "8fxjsggPEv9r",
        "outputId": "e255e5a3-0a41-4bc2-9fc6-8bbb38c81276"
      },
      "outputs": [
        {
          "data": {
            "text/plain": [
              "'location'"
            ]
          },
          "execution_count": 5,
          "metadata": {},
          "output_type": "execute_result"
        }
      ],
      "source": [
        "improved_qtype(\"What place was that?\")"
      ]
    },
    {
      "cell_type": "code",
      "execution_count": null,
      "metadata": {
        "id": "Cc6kqNG8Ev9r",
        "outputId": "7d55d777-86e8-40c4-db7b-e97013fca0f6"
      },
      "outputs": [
        {
          "data": {
            "text/plain": [
              "'person'"
            ]
          },
          "execution_count": 6,
          "metadata": {},
          "output_type": "execute_result"
        }
      ],
      "source": [
        "improved_qtype_context(\"What was the name of the first president?\",\"The first president was George Washington. He was super cool.\",[\"Washington\",\"George Washington\"])"
      ]
    },
    {
      "cell_type": "code",
      "execution_count": null,
      "metadata": {
        "id": "ByVlSEvnEv9s"
      },
      "outputs": [],
      "source": [
        "def create_updated_q_types(df):\n",
        "    df['updated_question_type'] = df.apply(lambda x: improved_qtype_context(x.question,x.context,x.answers), axis=1)\n",
        "    return df"
      ]
    },
    {
      "cell_type": "code",
      "execution_count": null,
      "metadata": {
        "id": "pzZUJxmfEv9s"
      },
      "outputs": [],
      "source": [
        "def categorize_by_entity(context, answers):          \n",
        "    if len(answers) > 0:\n",
        "        doc = nlp(context)\n",
        "        ent_text = [e.text for e in doc.ents]\n",
        "        ent_label = [e.label_ for e in doc.ents]\n",
        "        for ans in answers:\n",
        "            if ans in ent_text:\n",
        "                return ent_label[ent_text.index(ans)]\n",
        "    return \"OTHER\""
      ]
    },
    {
      "cell_type": "code",
      "execution_count": null,
      "metadata": {
        "id": "Mga7jGCjEv9t"
      },
      "outputs": [],
      "source": [
        "def create_ans_types(df):\n",
        "    df['ans_types'] = df.apply(lambda x: categorize_by_entity(x.context,x.answers), axis=1)\n",
        "    return df"
      ]
    },
    {
      "cell_type": "code",
      "execution_count": null,
      "metadata": {
        "id": "J7CaQRrbEv9t"
      },
      "outputs": [],
      "source": [
        "def add_features(df):\n",
        "    df = create_q_types(df)\n",
        "    df = create_updated_q_types(df)\n",
        "    df = create_ans_types(df)\n",
        "    df[\"question_length\"] = df.question.apply(lambda x: len(x))\n",
        "    df[\"context_length\"] = df.context.apply(lambda x: len(x))\n",
        "    df=ave_ans_len(df)\n",
        "    return df"
      ]
    },
    {
      "cell_type": "code",
      "execution_count": null,
      "metadata": {
        "id": "hOzTPMMeEv9u"
      },
      "outputs": [],
      "source": [
        "dev_truth = create_q_types(dev_truth)"
      ]
    },
    {
      "cell_type": "code",
      "execution_count": null,
      "metadata": {
        "id": "alE-v5imEv9u"
      },
      "outputs": [],
      "source": [
        "train_truth = create_q_types(train_truth)"
      ]
    },
    {
      "cell_type": "code",
      "execution_count": null,
      "metadata": {
        "id": "HZ84QGc4Ev9u"
      },
      "outputs": [],
      "source": [
        "dev_truth = create_updated_q_types(dev_truth)"
      ]
    },
    {
      "cell_type": "code",
      "execution_count": null,
      "metadata": {
        "id": "c5kxt7P-Ev9u"
      },
      "outputs": [],
      "source": [
        "dev_truth = create_ans_types(dev_truth)"
      ]
    },
    {
      "cell_type": "code",
      "execution_count": null,
      "metadata": {
        "id": "LZ9qb43BEv9u"
      },
      "outputs": [],
      "source": [
        "dev_truth[\"question_length\"] = dev_truth.question.apply(lambda x: len(x))\n",
        "dev_truth[\"context_length\"] = dev_truth.context.apply(lambda x: len(x))\n",
        "dev_truth=ave_ans_len(dev_truth)"
      ]
    },
    {
      "cell_type": "code",
      "execution_count": null,
      "metadata": {
        "id": "1UyGws8rEv9v",
        "outputId": "b6e20c5b-85ae-4c27-8ba7-9ee5923164e6"
      },
      "outputs": [
        {
          "data": {
            "text/html": [
              "<div>\n",
              "<style scoped>\n",
              "    .dataframe tbody tr th:only-of-type {\n",
              "        vertical-align: middle;\n",
              "    }\n",
              "\n",
              "    .dataframe tbody tr th {\n",
              "        vertical-align: top;\n",
              "    }\n",
              "\n",
              "    .dataframe thead th {\n",
              "        text-align: right;\n",
              "    }\n",
              "</style>\n",
              "<table border=\"1\" class=\"dataframe\">\n",
              "  <thead>\n",
              "    <tr style=\"text-align: right;\">\n",
              "      <th></th>\n",
              "      <th>answers</th>\n",
              "      <th>context</th>\n",
              "      <th>question</th>\n",
              "      <th>spans</th>\n",
              "      <th>Id</th>\n",
              "      <th>question_type</th>\n",
              "      <th>updated_question_type</th>\n",
              "      <th>ans_types</th>\n",
              "      <th>question_length</th>\n",
              "      <th>context_length</th>\n",
              "      <th>ave_ans_len</th>\n",
              "    </tr>\n",
              "  </thead>\n",
              "  <tbody>\n",
              "    <tr>\n",
              "      <th>1</th>\n",
              "      <td>[France, France, France, France]</td>\n",
              "      <td>The Normans (Norman: Nourmands; French: Norman...</td>\n",
              "      <td>In what country is Normandy located?</td>\n",
              "      <td>[[0, 3], [4, 11], [12, 13], [13, 19], [19, 20]...</td>\n",
              "      <td>68cf05f67fd29c6f129fe2fb9</td>\n",
              "      <td>what</td>\n",
              "      <td>location</td>\n",
              "      <td>GPE</td>\n",
              "      <td>36</td>\n",
              "      <td>742</td>\n",
              "      <td>6.00</td>\n",
              "    </tr>\n",
              "    <tr>\n",
              "      <th>2</th>\n",
              "      <td>[10th and 11th centuries, in the 10th and 11th...</td>\n",
              "      <td>The Normans (Norman: Nourmands; French: Norman...</td>\n",
              "      <td>When were the Normans in Normandy?</td>\n",
              "      <td>[[0, 3], [4, 11], [12, 13], [13, 19], [19, 20]...</td>\n",
              "      <td>f5fead9187d56af2bdbfcb921</td>\n",
              "      <td>when</td>\n",
              "      <td>date</td>\n",
              "      <td>OTHER</td>\n",
              "      <td>34</td>\n",
              "      <td>742</td>\n",
              "      <td>24.75</td>\n",
              "    </tr>\n",
              "    <tr>\n",
              "      <th>3</th>\n",
              "      <td>[Denmark, Iceland and Norway, Denmark, Iceland...</td>\n",
              "      <td>The Normans (Norman: Nourmands; French: Norman...</td>\n",
              "      <td>From which countries did the Norse originate?</td>\n",
              "      <td>[[0, 3], [4, 11], [12, 13], [13, 19], [19, 20]...</td>\n",
              "      <td>f9183ead5bb93aaa12ea37245</td>\n",
              "      <td>which</td>\n",
              "      <td>location</td>\n",
              "      <td>OTHER</td>\n",
              "      <td>45</td>\n",
              "      <td>742</td>\n",
              "      <td>27.00</td>\n",
              "    </tr>\n",
              "    <tr>\n",
              "      <th>4</th>\n",
              "      <td>[Rollo, Rollo, Rollo, Rollo]</td>\n",
              "      <td>The Normans (Norman: Nourmands; French: Norman...</td>\n",
              "      <td>Who was the Norse leader?</td>\n",
              "      <td>[[0, 3], [4, 11], [12, 13], [13, 19], [19, 20]...</td>\n",
              "      <td>1fc4da46445c2c1c2dc0ddeda</td>\n",
              "      <td>who</td>\n",
              "      <td>person</td>\n",
              "      <td>PERSON</td>\n",
              "      <td>25</td>\n",
              "      <td>742</td>\n",
              "      <td>5.00</td>\n",
              "    </tr>\n",
              "    <tr>\n",
              "      <th>5</th>\n",
              "      <td>[10th century, the first half of the 10th cent...</td>\n",
              "      <td>The Normans (Norman: Nourmands; French: Norman...</td>\n",
              "      <td>What century did the Normans first gain their ...</td>\n",
              "      <td>[[0, 3], [4, 11], [12, 13], [13, 19], [19, 20]...</td>\n",
              "      <td>1be9fa378cbee6d9fa8b6ac78</td>\n",
              "      <td>what</td>\n",
              "      <td>date</td>\n",
              "      <td>DATE</td>\n",
              "      <td>64</td>\n",
              "      <td>742</td>\n",
              "      <td>13.50</td>\n",
              "    </tr>\n",
              "  </tbody>\n",
              "</table>\n",
              "</div>"
            ],
            "text/plain": [
              "                                             answers  \\\n",
              "1                   [France, France, France, France]   \n",
              "2  [10th and 11th centuries, in the 10th and 11th...   \n",
              "3  [Denmark, Iceland and Norway, Denmark, Iceland...   \n",
              "4                       [Rollo, Rollo, Rollo, Rollo]   \n",
              "5  [10th century, the first half of the 10th cent...   \n",
              "\n",
              "                                             context  \\\n",
              "1  The Normans (Norman: Nourmands; French: Norman...   \n",
              "2  The Normans (Norman: Nourmands; French: Norman...   \n",
              "3  The Normans (Norman: Nourmands; French: Norman...   \n",
              "4  The Normans (Norman: Nourmands; French: Norman...   \n",
              "5  The Normans (Norman: Nourmands; French: Norman...   \n",
              "\n",
              "                                            question  \\\n",
              "1               In what country is Normandy located?   \n",
              "2                 When were the Normans in Normandy?   \n",
              "3      From which countries did the Norse originate?   \n",
              "4                          Who was the Norse leader?   \n",
              "5  What century did the Normans first gain their ...   \n",
              "\n",
              "                                               spans  \\\n",
              "1  [[0, 3], [4, 11], [12, 13], [13, 19], [19, 20]...   \n",
              "2  [[0, 3], [4, 11], [12, 13], [13, 19], [19, 20]...   \n",
              "3  [[0, 3], [4, 11], [12, 13], [13, 19], [19, 20]...   \n",
              "4  [[0, 3], [4, 11], [12, 13], [13, 19], [19, 20]...   \n",
              "5  [[0, 3], [4, 11], [12, 13], [13, 19], [19, 20]...   \n",
              "\n",
              "                          Id question_type updated_question_type ans_types  \\\n",
              "1  68cf05f67fd29c6f129fe2fb9          what              location       GPE   \n",
              "2  f5fead9187d56af2bdbfcb921          when                  date     OTHER   \n",
              "3  f9183ead5bb93aaa12ea37245         which              location     OTHER   \n",
              "4  1fc4da46445c2c1c2dc0ddeda           who                person    PERSON   \n",
              "5  1be9fa378cbee6d9fa8b6ac78          what                  date      DATE   \n",
              "\n",
              "   question_length  context_length  ave_ans_len  \n",
              "1               36             742         6.00  \n",
              "2               34             742        24.75  \n",
              "3               45             742        27.00  \n",
              "4               25             742         5.00  \n",
              "5               64             742        13.50  "
            ]
          },
          "execution_count": 19,
          "metadata": {},
          "output_type": "execute_result"
        }
      ],
      "source": [
        "dev_truth.head()"
      ]
    },
    {
      "cell_type": "code",
      "execution_count": null,
      "metadata": {
        "id": "auMPc318Ev9v"
      },
      "outputs": [],
      "source": [
        "train_truth[\"question_length\"] = train_truth.question.apply(lambda x: len(x))\n",
        "train_truth[\"context_length\"] = train_truth.context.apply(lambda x: len(x))\n",
        "train_truth=ave_ans_len(train_truth)"
      ]
    },
    {
      "cell_type": "code",
      "execution_count": null,
      "metadata": {
        "id": "udZXHy15Ev9v",
        "outputId": "c73d1763-f996-4347-fa56-221e63cc575b"
      },
      "outputs": [
        {
          "data": {
            "text/html": [
              "<div>\n",
              "<style scoped>\n",
              "    .dataframe tbody tr th:only-of-type {\n",
              "        vertical-align: middle;\n",
              "    }\n",
              "\n",
              "    .dataframe tbody tr th {\n",
              "        vertical-align: top;\n",
              "    }\n",
              "\n",
              "    .dataframe thead th {\n",
              "        text-align: right;\n",
              "    }\n",
              "</style>\n",
              "<table border=\"1\" class=\"dataframe\">\n",
              "  <thead>\n",
              "    <tr style=\"text-align: right;\">\n",
              "      <th></th>\n",
              "      <th>answers</th>\n",
              "      <th>context</th>\n",
              "      <th>question</th>\n",
              "      <th>spans</th>\n",
              "      <th>Id</th>\n",
              "      <th>question_type</th>\n",
              "      <th>question_length</th>\n",
              "      <th>context_length</th>\n",
              "      <th>ave_ans_len</th>\n",
              "    </tr>\n",
              "  </thead>\n",
              "  <tbody>\n",
              "    <tr>\n",
              "      <th>1</th>\n",
              "      <td>[in the late 1990s]</td>\n",
              "      <td>Beyoncé Giselle Knowles-Carter (/biːˈjɒnseɪ/ b...</td>\n",
              "      <td>When did Beyonce start becoming popular?</td>\n",
              "      <td>[[0, 7], [8, 15], [16, 23], [23, 24], [24, 30]...</td>\n",
              "      <td>56be85543aeaaa14008c9063</td>\n",
              "      <td>when</td>\n",
              "      <td>40</td>\n",
              "      <td>694</td>\n",
              "      <td>17.0</td>\n",
              "    </tr>\n",
              "    <tr>\n",
              "      <th>2</th>\n",
              "      <td>[singing and dancing]</td>\n",
              "      <td>Beyoncé Giselle Knowles-Carter (/biːˈjɒnseɪ/ b...</td>\n",
              "      <td>What areas did Beyonce compete in when she was...</td>\n",
              "      <td>[[0, 7], [8, 15], [16, 23], [23, 24], [24, 30]...</td>\n",
              "      <td>56be85543aeaaa14008c9065</td>\n",
              "      <td>when</td>\n",
              "      <td>58</td>\n",
              "      <td>694</td>\n",
              "      <td>19.0</td>\n",
              "    </tr>\n",
              "    <tr>\n",
              "      <th>3</th>\n",
              "      <td>[2003]</td>\n",
              "      <td>Beyoncé Giselle Knowles-Carter (/biːˈjɒnseɪ/ b...</td>\n",
              "      <td>When did Beyonce leave Destiny's Child and bec...</td>\n",
              "      <td>[[0, 7], [8, 15], [16, 23], [23, 24], [24, 30]...</td>\n",
              "      <td>56be85543aeaaa14008c9066</td>\n",
              "      <td>when</td>\n",
              "      <td>64</td>\n",
              "      <td>694</td>\n",
              "      <td>4.0</td>\n",
              "    </tr>\n",
              "    <tr>\n",
              "      <th>4</th>\n",
              "      <td>[Houston, Texas]</td>\n",
              "      <td>Beyoncé Giselle Knowles-Carter (/biːˈjɒnseɪ/ b...</td>\n",
              "      <td>In what city and state did Beyonce  grow up?</td>\n",
              "      <td>[[0, 7], [8, 15], [16, 23], [23, 24], [24, 30]...</td>\n",
              "      <td>56bf6b0f3aeaaa14008c9601</td>\n",
              "      <td>what</td>\n",
              "      <td>45</td>\n",
              "      <td>694</td>\n",
              "      <td>14.0</td>\n",
              "    </tr>\n",
              "    <tr>\n",
              "      <th>5</th>\n",
              "      <td>[late 1990s]</td>\n",
              "      <td>Beyoncé Giselle Knowles-Carter (/biːˈjɒnseɪ/ b...</td>\n",
              "      <td>In which decade did Beyonce become famous?</td>\n",
              "      <td>[[0, 7], [8, 15], [16, 23], [23, 24], [24, 30]...</td>\n",
              "      <td>56bf6b0f3aeaaa14008c9602</td>\n",
              "      <td>which</td>\n",
              "      <td>42</td>\n",
              "      <td>694</td>\n",
              "      <td>10.0</td>\n",
              "    </tr>\n",
              "  </tbody>\n",
              "</table>\n",
              "</div>"
            ],
            "text/plain": [
              "                 answers                                            context  \\\n",
              "1    [in the late 1990s]  Beyoncé Giselle Knowles-Carter (/biːˈjɒnseɪ/ b...   \n",
              "2  [singing and dancing]  Beyoncé Giselle Knowles-Carter (/biːˈjɒnseɪ/ b...   \n",
              "3                 [2003]  Beyoncé Giselle Knowles-Carter (/biːˈjɒnseɪ/ b...   \n",
              "4       [Houston, Texas]  Beyoncé Giselle Knowles-Carter (/biːˈjɒnseɪ/ b...   \n",
              "5           [late 1990s]  Beyoncé Giselle Knowles-Carter (/biːˈjɒnseɪ/ b...   \n",
              "\n",
              "                                            question  \\\n",
              "1           When did Beyonce start becoming popular?   \n",
              "2  What areas did Beyonce compete in when she was...   \n",
              "3  When did Beyonce leave Destiny's Child and bec...   \n",
              "4      In what city and state did Beyonce  grow up?    \n",
              "5         In which decade did Beyonce become famous?   \n",
              "\n",
              "                                               spans  \\\n",
              "1  [[0, 7], [8, 15], [16, 23], [23, 24], [24, 30]...   \n",
              "2  [[0, 7], [8, 15], [16, 23], [23, 24], [24, 30]...   \n",
              "3  [[0, 7], [8, 15], [16, 23], [23, 24], [24, 30]...   \n",
              "4  [[0, 7], [8, 15], [16, 23], [23, 24], [24, 30]...   \n",
              "5  [[0, 7], [8, 15], [16, 23], [23, 24], [24, 30]...   \n",
              "\n",
              "                         Id question_type  question_length  context_length  \\\n",
              "1  56be85543aeaaa14008c9063          when               40             694   \n",
              "2  56be85543aeaaa14008c9065          when               58             694   \n",
              "3  56be85543aeaaa14008c9066          when               64             694   \n",
              "4  56bf6b0f3aeaaa14008c9601          what               45             694   \n",
              "5  56bf6b0f3aeaaa14008c9602         which               42             694   \n",
              "\n",
              "   ave_ans_len  \n",
              "1         17.0  \n",
              "2         19.0  \n",
              "3          4.0  \n",
              "4         14.0  \n",
              "5         10.0  "
            ]
          },
          "execution_count": 21,
          "metadata": {},
          "output_type": "execute_result"
        }
      ],
      "source": [
        "train_truth.head()"
      ]
    },
    {
      "cell_type": "code",
      "execution_count": null,
      "metadata": {
        "id": "qGPI4px9Ev9v",
        "outputId": "aa5b945c-be73-4b77-ff7e-766c4a9e1149"
      },
      "outputs": [
        {
          "data": {
            "text/html": [
              "<div>\n",
              "<style scoped>\n",
              "    .dataframe tbody tr th:only-of-type {\n",
              "        vertical-align: middle;\n",
              "    }\n",
              "\n",
              "    .dataframe tbody tr th {\n",
              "        vertical-align: top;\n",
              "    }\n",
              "\n",
              "    .dataframe thead th {\n",
              "        text-align: right;\n",
              "    }\n",
              "</style>\n",
              "<table border=\"1\" class=\"dataframe\">\n",
              "  <thead>\n",
              "    <tr style=\"text-align: right;\">\n",
              "      <th></th>\n",
              "      <th>answers</th>\n",
              "      <th>context</th>\n",
              "      <th>question</th>\n",
              "      <th>spans</th>\n",
              "      <th>Id</th>\n",
              "      <th>question_type</th>\n",
              "      <th>question_length</th>\n",
              "      <th>context_length</th>\n",
              "      <th>ave_ans_len</th>\n",
              "    </tr>\n",
              "  </thead>\n",
              "  <tbody>\n",
              "    <tr>\n",
              "      <th>1</th>\n",
              "      <td>[in the late 1990s]</td>\n",
              "      <td>Beyoncé Giselle Knowles-Carter (/biːˈjɒnseɪ/ b...</td>\n",
              "      <td>When did Beyonce start becoming popular?</td>\n",
              "      <td>[[0, 7], [8, 15], [16, 23], [23, 24], [24, 30]...</td>\n",
              "      <td>56be85543aeaaa14008c9063</td>\n",
              "      <td>when</td>\n",
              "      <td>40</td>\n",
              "      <td>694</td>\n",
              "      <td>17.0</td>\n",
              "    </tr>\n",
              "    <tr>\n",
              "      <th>2</th>\n",
              "      <td>[singing and dancing]</td>\n",
              "      <td>Beyoncé Giselle Knowles-Carter (/biːˈjɒnseɪ/ b...</td>\n",
              "      <td>What areas did Beyonce compete in when she was...</td>\n",
              "      <td>[[0, 7], [8, 15], [16, 23], [23, 24], [24, 30]...</td>\n",
              "      <td>56be85543aeaaa14008c9065</td>\n",
              "      <td>when</td>\n",
              "      <td>58</td>\n",
              "      <td>694</td>\n",
              "      <td>19.0</td>\n",
              "    </tr>\n",
              "    <tr>\n",
              "      <th>3</th>\n",
              "      <td>[2003]</td>\n",
              "      <td>Beyoncé Giselle Knowles-Carter (/biːˈjɒnseɪ/ b...</td>\n",
              "      <td>When did Beyonce leave Destiny's Child and bec...</td>\n",
              "      <td>[[0, 7], [8, 15], [16, 23], [23, 24], [24, 30]...</td>\n",
              "      <td>56be85543aeaaa14008c9066</td>\n",
              "      <td>when</td>\n",
              "      <td>64</td>\n",
              "      <td>694</td>\n",
              "      <td>4.0</td>\n",
              "    </tr>\n",
              "    <tr>\n",
              "      <th>4</th>\n",
              "      <td>[Houston, Texas]</td>\n",
              "      <td>Beyoncé Giselle Knowles-Carter (/biːˈjɒnseɪ/ b...</td>\n",
              "      <td>In what city and state did Beyonce  grow up?</td>\n",
              "      <td>[[0, 7], [8, 15], [16, 23], [23, 24], [24, 30]...</td>\n",
              "      <td>56bf6b0f3aeaaa14008c9601</td>\n",
              "      <td>what</td>\n",
              "      <td>45</td>\n",
              "      <td>694</td>\n",
              "      <td>14.0</td>\n",
              "    </tr>\n",
              "    <tr>\n",
              "      <th>5</th>\n",
              "      <td>[late 1990s]</td>\n",
              "      <td>Beyoncé Giselle Knowles-Carter (/biːˈjɒnseɪ/ b...</td>\n",
              "      <td>In which decade did Beyonce become famous?</td>\n",
              "      <td>[[0, 7], [8, 15], [16, 23], [23, 24], [24, 30]...</td>\n",
              "      <td>56bf6b0f3aeaaa14008c9602</td>\n",
              "      <td>which</td>\n",
              "      <td>42</td>\n",
              "      <td>694</td>\n",
              "      <td>10.0</td>\n",
              "    </tr>\n",
              "  </tbody>\n",
              "</table>\n",
              "</div>"
            ],
            "text/plain": [
              "                 answers                                            context  \\\n",
              "1    [in the late 1990s]  Beyoncé Giselle Knowles-Carter (/biːˈjɒnseɪ/ b...   \n",
              "2  [singing and dancing]  Beyoncé Giselle Knowles-Carter (/biːˈjɒnseɪ/ b...   \n",
              "3                 [2003]  Beyoncé Giselle Knowles-Carter (/biːˈjɒnseɪ/ b...   \n",
              "4       [Houston, Texas]  Beyoncé Giselle Knowles-Carter (/biːˈjɒnseɪ/ b...   \n",
              "5           [late 1990s]  Beyoncé Giselle Knowles-Carter (/biːˈjɒnseɪ/ b...   \n",
              "\n",
              "                                            question  \\\n",
              "1           When did Beyonce start becoming popular?   \n",
              "2  What areas did Beyonce compete in when she was...   \n",
              "3  When did Beyonce leave Destiny's Child and bec...   \n",
              "4      In what city and state did Beyonce  grow up?    \n",
              "5         In which decade did Beyonce become famous?   \n",
              "\n",
              "                                               spans  \\\n",
              "1  [[0, 7], [8, 15], [16, 23], [23, 24], [24, 30]...   \n",
              "2  [[0, 7], [8, 15], [16, 23], [23, 24], [24, 30]...   \n",
              "3  [[0, 7], [8, 15], [16, 23], [23, 24], [24, 30]...   \n",
              "4  [[0, 7], [8, 15], [16, 23], [23, 24], [24, 30]...   \n",
              "5  [[0, 7], [8, 15], [16, 23], [23, 24], [24, 30]...   \n",
              "\n",
              "                         Id question_type  question_length  context_length  \\\n",
              "1  56be85543aeaaa14008c9063          when               40             694   \n",
              "2  56be85543aeaaa14008c9065          when               58             694   \n",
              "3  56be85543aeaaa14008c9066          when               64             694   \n",
              "4  56bf6b0f3aeaaa14008c9601          what               45             694   \n",
              "5  56bf6b0f3aeaaa14008c9602         which               42             694   \n",
              "\n",
              "   ave_ans_len  \n",
              "1         17.0  \n",
              "2         19.0  \n",
              "3          4.0  \n",
              "4         14.0  \n",
              "5         10.0  "
            ]
          },
          "execution_count": 28,
          "metadata": {},
          "output_type": "execute_result"
        }
      ],
      "source": [
        "train_truth.head()"
      ]
    },
    {
      "cell_type": "code",
      "execution_count": null,
      "metadata": {
        "id": "jlW4X_tJ7smC"
      },
      "outputs": [],
      "source": [
        "# Plot frequency of question types\n",
        "dev_qfreq = pd.DataFrame(dev_truth[\"question_type\"].value_counts(normalize=True))\n",
        "train_qfreq = pd.DataFrame(train_truth[\"question_type\"].value_counts(normalize=True))\n",
        "qfreq = dev_qfreq.merge(train_qfreq, left_index=True, right_index=True)\n",
        "qfreq.set_axis(['dev', 'train'], axis=1, inplace=True)\n"
      ]
    },
    {
      "cell_type": "code",
      "execution_count": null,
      "metadata": {
        "id": "6dyzkoiWEv9v",
        "outputId": "3cfa48c4-6278-452d-dba9-955e84680c0d"
      },
      "outputs": [
        {
          "data": {
            "text/plain": [
              "Text(0, 0.5, 'Frequency')"
            ]
          },
          "execution_count": 58,
          "metadata": {},
          "output_type": "execute_result"
        },
        {
          "data": {
            "image/png": "[encoded data removed]",
            "text/plain": [
              "<Figure size 432x288 with 1 Axes>"
            ]
          },
          "metadata": {
            "needs_background": "light"
          },
          "output_type": "display_data"
        }
      ],
      "source": [
        "\n",
        "#qfreq = dev_qfreq.merge(train_qfreq, left_index=True, right_index=True).set_axis(['dev', 'train'], axis=1)\n",
        "qfreq.plot(kind=\"bar\", width=0.8)\n",
        "plt.title(\"Frequency of question types\")\n",
        "plt.ylabel(\"Frequency\")"
      ]
    },
    {
      "cell_type": "code",
      "execution_count": null,
      "metadata": {
        "id": "-rn8sdfuEv9w",
        "outputId": "006c2f38-5056-474c-af68-7de35ce2be8b"
      },
      "outputs": [
        {
          "data": {
            "text/plain": [
              "Text(0, 0.5, 'Frequency')"
            ]
          },
          "execution_count": 59,
          "metadata": {},
          "output_type": "execute_result"
        },
        {
          "data": {
            "image/png": "[encoded data removed]",
            "text/plain": [
              "<Figure size 432x288 with 1 Axes>"
            ]
          },
          "metadata": {
            "needs_background": "light"
          },
          "output_type": "display_data"
        }
      ],
      "source": [
        "# Plot frequency of updated question types\n",
        "dev_new_qfreq = pd.DataFrame(dev_truth[\"updated_question_type\"].value_counts(normalize=True))\n",
        "\n",
        "dev_new_qfreq.plot(kind=\"bar\", width=0.8)\n",
        "plt.title(\"Frequency of question types\")\n",
        "plt.ylabel(\"Frequency\")"
      ]
    },
    {
      "cell_type": "code",
      "execution_count": null,
      "metadata": {
        "id": "mf_iTdLmEv9w",
        "outputId": "6dfbe853-3aa8-44f8-83c6-bc0d43ae8afc"
      },
      "outputs": [
        {
          "data": {
            "text/plain": [
              "Text(0, 0.5, 'Frequency')"
            ]
          },
          "execution_count": 61,
          "metadata": {},
          "output_type": "execute_result"
        },
        {
          "data": {
            "image/png": "[encoded data removed]",
            "text/plain": [
              "<Figure size 432x288 with 1 Axes>"
            ]
          },
          "metadata": {
            "needs_background": "light"
          },
          "output_type": "display_data"
        },
        {
          "data": {
            "image/png": "[encoded data removed]",
            "text/plain": [
              "<Figure size 432x288 with 1 Axes>"
            ]
          },
          "metadata": {
            "needs_background": "light"
          },
          "output_type": "display_data"
        }
      ],
      "source": [
        "# Plot frequency of entity answer types\n",
        "dev_new_qfreq = pd.DataFrame(dev_truth[\"ans_types\"].value_counts(normalize=True))\n",
        "\n",
        "dev_new_qfreq.plot(kind=\"bar\", width=0.8)\n",
        "plt.title(\"Frequency of answer types\")\n",
        "plt.ylabel(\"Frequency\")\n",
        "\n",
        "new_try = dev_truth.loc[dev_truth[\"ans_types\"] != \"OTHER\"]\n",
        "dev_new_qfreq = pd.DataFrame(new_try[\"ans_types\"].value_counts(normalize=True))\n",
        "\n",
        "dev_new_qfreq.plot(kind=\"bar\", width=0.8)\n",
        "plt.title(\"Frequency of answer types\")\n",
        "plt.ylabel(\"Frequency\")"
      ]
    },
    {
      "cell_type": "code",
      "execution_count": null,
      "metadata": {
        "id": "45UiGn-n7smD",
        "outputId": "6494dba5-d330-4075-ee56-8645c3c7869a"
      },
      "outputs": [
        {
          "data": {
            "text/plain": [
              "Text(0, 0.5, 'Frequency')"
            ]
          },
          "execution_count": 63,
          "metadata": {},
          "output_type": "execute_result"
        },
        {
          "data": {
            "image/png": "[encoded data removed]",
            "text/plain": [
              "<Figure size 432x288 with 1 Axes>"
            ]
          },
          "metadata": {
            "needs_background": "light"
          },
          "output_type": "display_data"
        }
      ],
      "source": [
        "# context lengths\n",
        "bins = list(range(0, 4000, 250))\n",
        "dev_contlen = pd.DataFrame(pd.cut(dev_truth.context_length, bins=bins).value_counts(normalize=True, sort=False))\n",
        "train_contlen = pd.DataFrame(pd.cut(train_truth.context_length, bins=bins).value_counts(normalize=True, sort=False))\n",
        "contlen = dev_contlen.merge(train_contlen,left_index=True, right_index=True)\n",
        "contlen.set_axis(['dev', 'train'], axis=1, inplace=True)\n",
        "contlen.plot(kind=\"bar\", width=0.8)\n",
        "plt.title(\"Frequency of Context Lengths\")\n",
        "plt.ylabel(\"Frequency\")"
      ]
    },
    {
      "cell_type": "code",
      "execution_count": null,
      "metadata": {
        "id": "Dtc55d7v7smE",
        "outputId": "92ffd71f-5302-40a9-efb1-45dfee6d8ce6"
      },
      "outputs": [
        {
          "data": {
            "text/plain": [
              "Text(0, 0.5, 'Frequency')"
            ]
          },
          "execution_count": 64,
          "metadata": {},
          "output_type": "execute_result"
        },
        {
          "data": {
            "image/png": "[encoded data removed]",
            "text/plain": [
              "<Figure size 432x288 with 1 Axes>"
            ]
          },
          "metadata": {
            "needs_background": "light"
          },
          "output_type": "display_data"
        }
      ],
      "source": [
        "# question lengths\n",
        "bins = list(range(0, 300, 30))\n",
        "dev_contlen = pd.DataFrame(pd.cut(dev_truth.question_length, bins=bins).value_counts(normalize=True, sort=False))\n",
        "train_contlen = pd.DataFrame(pd.cut(train_truth.question_length, bins=bins).value_counts(normalize=True, sort=False))\n",
        "contlen = dev_contlen.merge(train_contlen,left_index=True, right_index=True)\n",
        "contlen.set_axis(['dev', 'train'], axis=1, inplace=True)\n",
        "contlen.plot(kind=\"bar\", width=0.8)\n",
        "plt.title(\"Frequency of Question Lengths\")\n",
        "plt.ylabel(\"Frequency\")\n",
        "\n"
      ]
    },
    {
      "cell_type": "code",
      "execution_count": null,
      "metadata": {
        "id": "uFRnxf357smG",
        "outputId": "f182d14e-0b66-40ae-8275-0b801f00051d"
      },
      "outputs": [
        {
          "data": {
            "text/plain": [
              "Text(0, 0.5, 'Frequency')"
            ]
          },
          "execution_count": 65,
          "metadata": {},
          "output_type": "execute_result"
        },
        {
          "data": {
            "image/png": "[encoded data removed]",
            "text/plain": [
              "<Figure size 432x288 with 1 Axes>"
            ]
          },
          "metadata": {
            "needs_background": "light"
          },
          "output_type": "display_data"
        }
      ],
      "source": [
        "# answer lengths\n",
        "bins = list(range(0, 200, 20))\n",
        "dev_contlen = pd.DataFrame(pd.cut(dev_truth.ave_ans_len, bins=bins).value_counts(normalize=True, sort=False))\n",
        "train_contlen = pd.DataFrame(pd.cut(train_truth.ave_ans_len, bins=bins).value_counts(normalize=True, sort=False))\n",
        "contlen = dev_contlen.merge(train_contlen,left_index=True, right_index=True)\n",
        "contlen.set_axis(['dev', 'train'], axis=1, inplace=True)\n",
        "contlen.plot(kind=\"bar\", width=0.8)\n",
        "plt.title(\"Frequency of Answer Lengths\")\n",
        "plt.ylabel(\"Frequency\")\n"
      ]
    },
    {
      "cell_type": "markdown",
      "metadata": {
        "id": "xQL1Gn-t7smH"
      },
      "source": [
        "# Calculate EM and F1 scores \n",
        "Create functions (or use and modify from utils) to calculate EM and F1 scores for any set of predictions and ground truths. \n"
      ]
    },
    {
      "cell_type": "code",
      "execution_count": null,
      "metadata": {
        "id": "WLnjKMkH7smH"
      },
      "outputs": [],
      "source": [
        "# Code adapted from utils.py\n",
        "import logging\n",
        "import os\n",
        "import queue\n",
        "import re\n",
        "import shutil\n",
        "import string\n",
        "import torch\n",
        "import torch.nn.functional as F\n",
        "import torch.utils.data as data\n",
        "import tqdm\n",
        "import numpy as np\n",
        "import ujson as json\n",
        "\n",
        "from collections import Counter\n",
        "\n",
        "def eval_dicts(gold_dict, pred_dict, no_answer):\n",
        "    avna = f1 = em = total = 0\n",
        "    for key, value in pred_dict.items():\n",
        "\n",
        "        total += 1\n",
        "        ground_truths = gold_dict[key]['answers']\n",
        "        prediction = value[\"answers\"]\n",
        "            \n",
        "        em += metric_max_over_ground_truths(compute_em, prediction, ground_truths)\n",
        "        f1 += metric_max_over_ground_truths(compute_f1, prediction, ground_truths)\n",
        "        if no_answer:\n",
        "\n",
        "            avna += compute_avna(prediction, ground_truths)\n",
        "\n",
        "    eval_dict = {'EM': 100. * em / total,\n",
        "                 'F1': 100. * f1 / total}\n",
        "    \n",
        "    if no_answer:\n",
        "        eval_dict['AvNA'] = 100. * avna / total\n",
        "\n",
        "    return eval_dict\n",
        "\n",
        "\n",
        "def metric_max_over_ground_truths(metric_fn, prediction, ground_truths):\n",
        "    if not ground_truths:\n",
        "        return metric_fn(prediction, '')\n",
        "    scores_for_ground_truths = []\n",
        "    for ground_truth in ground_truths:\n",
        "        score = metric_fn(prediction, ground_truth)\n",
        "        scores_for_ground_truths.append(score)\n",
        "    return max(scores_for_ground_truths)\n",
        "\n",
        "def compute_avna(prediction, ground_truths):\n",
        "    \"\"\"Compute answer vs. no-answer accuracy.\"\"\"\n",
        "    return float(bool(prediction) == bool(ground_truths))\n",
        "\n",
        "\n",
        "# All methods below this line are from the official SQuAD 2.0 eval script\n",
        "# https://worksheets.codalab.org/rest/bundles/0x6b567e1cf2e041ec80d7098f031c5c9e/contents/blob/\n",
        "def normalize_answer(s):\n",
        "    \"\"\"Convert to lowercase and remove punctuation, articles and extra whitespace.\"\"\"\n",
        "    def remove_articles(text):\n",
        "        regex = re.compile(r'\\b(a|an|the)\\b', re.UNICODE)\n",
        "        return re.sub(regex, ' ', text)\n",
        "\n",
        "    def white_space_fix(text):\n",
        "        return ' '.join(text.split())\n",
        "\n",
        "    def remove_punc(text):\n",
        "        exclude = set(string.punctuation)\n",
        "        return ''.join(ch for ch in text if ch not in exclude)\n",
        "\n",
        "    def lower(text):\n",
        "        return text.lower()\n",
        "    \n",
        "    return white_space_fix(remove_articles(remove_punc(lower(s))))\n",
        "\n",
        "\n",
        "def get_tokens(s):\n",
        "    if not s:\n",
        "        return []\n",
        "    return normalize_answer(s).split()\n",
        "\n",
        "\n",
        "def compute_em(a_gold, a_pred):\n",
        "    return int(normalize_answer(a_gold) == normalize_answer(a_pred))\n",
        "\n",
        "\n",
        "def compute_f1(a_gold, a_pred):\n",
        "    gold_toks = get_tokens(a_gold)\n",
        "    pred_toks = get_tokens(a_pred)\n",
        "    common = Counter(gold_toks) & Counter(pred_toks)\n",
        "    num_same = sum(common.values())\n",
        "    if len(gold_toks) == 0 or len(pred_toks) == 0:\n",
        "        # If either is no-answer, then F1 is 1 if they agree, 0 otherwise\n",
        "        return int(gold_toks == pred_toks)\n",
        "    if num_same == 0:\n",
        "        return 0\n",
        "    precision = 1.0 * num_same / len(pred_toks)\n",
        "    recall = 1.0 * num_same / len(gold_toks)\n",
        "    f1 = (2 * precision * recall) / (precision + recall)\n",
        "    return f1\n"
      ]
    },
    {
      "cell_type": "code",
      "execution_count": null,
      "metadata": {
        "id": "_w0oZ8-q7smI"
      },
      "outputs": [],
      "source": [
        "##############\n",
        "\n",
        "def performance(pred_df, truth_df, name):\n",
        "    \n",
        "    pred_df = pred_df.set_index(\"Id\")\n",
        "    pred_dict = pred_df.rename({'Predicted':'answers'}, axis=1)\n",
        "    pred_dict = pred_dict.fillna('').to_dict('index')\n",
        "    \n",
        "    truth_df = truth_df.set_index(\"Id\")\n",
        "    truth_dict = truth_df.to_dict(\"index\")\n",
        "\n",
        "    data = eval_dicts(truth_dict, pred_dict, True)\n",
        "    result = pd.DataFrame.from_dict(data, orient=\"index\").rename({0: name}, axis=1)\n",
        "    \n",
        "    return result\n",
        "\n",
        "def q_type_performance(pred_df, truth_large_df):\n",
        "    truth_df = truth_large_df[[\"answers\", \"Id\"]]\n",
        "    df = performance(pred_df, truth_df, \"overall\")\n",
        "    qtypes = [\"who\", \"when\", \"where\", \"what\", \"why\", \"which\", \"how\", \"other\"]\n",
        "    \n",
        "    for qtype in qtypes:\n",
        "        truth_q_df = truth_large_df[truth_large_df.question_type==qtype][[\"answers\", \"Id\"]]\n",
        "        pred_q_df = pred_df[pred_df.Id.isin(list(truth_q_df.Id))]\n",
        "        result = performance(pred_q_df, truth_q_df, qtype)\n",
        "        df = pd.merge(df,result, left_index=True, right_index=True)\n",
        "        \n",
        "    return df \n",
        "\n",
        "def new_q_type_performance(pred_df, truth_large_df):\n",
        "    truth_df = truth_large_df[[\"answers\", \"Id\"]]\n",
        "    df = performance(pred_df, truth_df, \"overall\")\n",
        "    improved_qtypes = [\"person\", \"date\", \"thing\", \"location\", \"quantity\", \"description\",\"other\"]\n",
        "    \n",
        "    for qtype in improved_qtypes:\n",
        "        truth_q_df = truth_large_df[truth_large_df.updated_question_type==qtype][[\"answers\", \"Id\"]]\n",
        "        pred_q_df = pred_df[pred_df.Id.isin(list(truth_q_df.Id))]\n",
        "        result = performance(pred_q_df, truth_q_df, qtype)\n",
        "        df = pd.merge(df,result, left_index=True, right_index=True)\n",
        "        \n",
        "    return df \n",
        "\n",
        "def ans_type_performance(pred_df, truth_large_df):\n",
        "    truth_df = truth_large_df[[\"answers\", \"Id\"]]\n",
        "    df = performance(pred_df, truth_df, \"overall\")\n",
        "    ans_types = [\"PERSON\",\"NORP\",\"FAC\",\"GPE\",\"LOC\",\"EVENT\",\"ORG\",\"PRODUCT\",\"WORK_OF_ART\",\"LAW\",\"LANGUAGE\",\n",
        "\"ORDINAL\",\"DATE\",\"TIME\",\"PERCENT\",\"MONEY\",\"QUANTITY\",\"CARDINAL\",\"OTHER\"]\n",
        "    \n",
        "    for qtype in ans_types:\n",
        "        truth_q_df = truth_large_df[truth_large_df.ans_types==qtype][[\"answers\", \"Id\"]]\n",
        "        if len(truth_q_df.index)>0:\n",
        "            pred_q_df = pred_df[pred_df.Id.isin(list(truth_q_df.Id))]\n",
        "            result = performance(pred_q_df, truth_q_df, qtype)\n",
        "            df = pd.merge(df,result, left_index=True, right_index=True)\n",
        "\n",
        "    return df \n",
        "\n"
      ]
    },
    {
      "cell_type": "markdown",
      "metadata": {
        "id": "ubQWiuX77smJ"
      },
      "source": [
        "# Analysis \n",
        "We want to compare 4 models: baseline BIDAF, BIDAF w/ character embeddings, QANet-1, QANet-2. \n",
        "\n",
        "\n",
        "Here we want to see where our models perform well and perform poorly, using our dev sets.  More specifically, we want to see break down of F1, EM, AvNA score based on **question types**."
      ]
    },
    {
      "cell_type": "code",
      "execution_count": null,
      "metadata": {
        "id": "szac7xB7Ev9y",
        "outputId": "87ae3fdd-cc30-4f92-caa8-bbbc8e573dad"
      },
      "outputs": [
        {
          "data": {
            "text/html": [
              "<div>\n",
              "<style scoped>\n",
              "    .dataframe tbody tr th:only-of-type {\n",
              "        vertical-align: middle;\n",
              "    }\n",
              "\n",
              "    .dataframe tbody tr th {\n",
              "        vertical-align: top;\n",
              "    }\n",
              "\n",
              "    .dataframe thead th {\n",
              "        text-align: right;\n",
              "    }\n",
              "</style>\n",
              "<table border=\"1\" class=\"dataframe\">\n",
              "  <thead>\n",
              "    <tr style=\"text-align: right;\">\n",
              "      <th></th>\n",
              "      <th>overall</th>\n",
              "      <th>who</th>\n",
              "      <th>when</th>\n",
              "      <th>where</th>\n",
              "      <th>what</th>\n",
              "      <th>why</th>\n",
              "      <th>which</th>\n",
              "      <th>how</th>\n",
              "      <th>other</th>\n",
              "    </tr>\n",
              "  </thead>\n",
              "  <tbody>\n",
              "    <tr>\n",
              "      <th>EM</th>\n",
              "      <td>57.939842</td>\n",
              "      <td>59.649123</td>\n",
              "      <td>64.990689</td>\n",
              "      <td>57.254902</td>\n",
              "      <td>56.807935</td>\n",
              "      <td>47.674419</td>\n",
              "      <td>65.898618</td>\n",
              "      <td>54.151625</td>\n",
              "      <td>58.908046</td>\n",
              "    </tr>\n",
              "    <tr>\n",
              "      <th>F1</th>\n",
              "      <td>61.379372</td>\n",
              "      <td>61.795697</td>\n",
              "      <td>66.353930</td>\n",
              "      <td>60.542926</td>\n",
              "      <td>60.364369</td>\n",
              "      <td>54.612715</td>\n",
              "      <td>71.736622</td>\n",
              "      <td>58.994946</td>\n",
              "      <td>62.279412</td>\n",
              "    </tr>\n",
              "    <tr>\n",
              "      <th>AvNA</th>\n",
              "      <td>68.408671</td>\n",
              "      <td>68.261563</td>\n",
              "      <td>71.694600</td>\n",
              "      <td>67.450980</td>\n",
              "      <td>67.778780</td>\n",
              "      <td>65.116279</td>\n",
              "      <td>80.645161</td>\n",
              "      <td>64.801444</td>\n",
              "      <td>69.252874</td>\n",
              "    </tr>\n",
              "  </tbody>\n",
              "</table>\n",
              "</div>"
            ],
            "text/plain": [
              "        overall        who       when      where       what        why  \\\n",
              "EM    57.939842  59.649123  64.990689  57.254902  56.807935  47.674419   \n",
              "F1    61.379372  61.795697  66.353930  60.542926  60.364369  54.612715   \n",
              "AvNA  68.408671  68.261563  71.694600  67.450980  67.778780  65.116279   \n",
              "\n",
              "          which        how      other  \n",
              "EM    65.898618  54.151625  58.908046  \n",
              "F1    71.736622  58.994946  62.279412  \n",
              "AvNA  80.645161  64.801444  69.252874  "
            ]
          },
          "execution_count": 72,
          "metadata": {},
          "output_type": "execute_result"
        }
      ],
      "source": [
        "bidaf_pred_df = pd.read_csv(\"save/test/baseline.dev.performance-01/dev_submission.csv\")\n",
        "bidaf_qtype = q_type_performance(bidaf_pred_df, dev_truth)\n",
        "bidaf_qtype"
      ]
    },
    {
      "cell_type": "code",
      "execution_count": null,
      "metadata": {
        "id": "qXsXhZ6C7smK",
        "outputId": "6a76d9c8-8e47-43eb-8e63-420d8d2735b3"
      },
      "outputs": [
        {
          "data": {
            "text/html": [
              "<div>\n",
              "<style scoped>\n",
              "    .dataframe tbody tr th:only-of-type {\n",
              "        vertical-align: middle;\n",
              "    }\n",
              "\n",
              "    .dataframe tbody tr th {\n",
              "        vertical-align: top;\n",
              "    }\n",
              "\n",
              "    .dataframe thead th {\n",
              "        text-align: right;\n",
              "    }\n",
              "</style>\n",
              "<table border=\"1\" class=\"dataframe\">\n",
              "  <thead>\n",
              "    <tr style=\"text-align: right;\">\n",
              "      <th></th>\n",
              "      <th>overall</th>\n",
              "      <th>person</th>\n",
              "      <th>date</th>\n",
              "      <th>thing</th>\n",
              "      <th>location</th>\n",
              "      <th>quantity</th>\n",
              "      <th>description</th>\n",
              "      <th>other</th>\n",
              "    </tr>\n",
              "  </thead>\n",
              "  <tbody>\n",
              "    <tr>\n",
              "      <th>EM</th>\n",
              "      <td>57.939842</td>\n",
              "      <td>60.461957</td>\n",
              "      <td>64.560440</td>\n",
              "      <td>56.349206</td>\n",
              "      <td>59.952607</td>\n",
              "      <td>57.270694</td>\n",
              "      <td>47.325103</td>\n",
              "      <td>58.404558</td>\n",
              "    </tr>\n",
              "    <tr>\n",
              "      <th>F1</th>\n",
              "      <td>61.379372</td>\n",
              "      <td>62.936331</td>\n",
              "      <td>65.886530</td>\n",
              "      <td>60.259549</td>\n",
              "      <td>62.632155</td>\n",
              "      <td>61.316736</td>\n",
              "      <td>54.504715</td>\n",
              "      <td>61.747109</td>\n",
              "    </tr>\n",
              "    <tr>\n",
              "      <th>AvNA</th>\n",
              "      <td>68.408671</td>\n",
              "      <td>70.923913</td>\n",
              "      <td>70.741758</td>\n",
              "      <td>67.460317</td>\n",
              "      <td>70.142180</td>\n",
              "      <td>67.561521</td>\n",
              "      <td>63.786008</td>\n",
              "      <td>68.660969</td>\n",
              "    </tr>\n",
              "  </tbody>\n",
              "</table>\n",
              "</div>"
            ],
            "text/plain": [
              "        overall     person       date      thing   location   quantity  \\\n",
              "EM    57.939842  60.461957  64.560440  56.349206  59.952607  57.270694   \n",
              "F1    61.379372  62.936331  65.886530  60.259549  62.632155  61.316736   \n",
              "AvNA  68.408671  70.923913  70.741758  67.460317  70.142180  67.561521   \n",
              "\n",
              "      description      other  \n",
              "EM      47.325103  58.404558  \n",
              "F1      54.504715  61.747109  \n",
              "AvNA    63.786008  68.660969  "
            ]
          },
          "execution_count": 73,
          "metadata": {},
          "output_type": "execute_result"
        }
      ],
      "source": [
        "bidaf_up_qtype = new_q_type_performance(bidaf_pred_df, dev_truth)\n",
        "bidaf_up_qtype"
      ]
    },
    {
      "cell_type": "code",
      "execution_count": null,
      "metadata": {
        "id": "J8XbPZ-ZEv9y",
        "outputId": "85ec10f4-4c6e-483a-844b-d47a4022c8c3"
      },
      "outputs": [
        {
          "data": {
            "text/html": [
              "<div>\n",
              "<style scoped>\n",
              "    .dataframe tbody tr th:only-of-type {\n",
              "        vertical-align: middle;\n",
              "    }\n",
              "\n",
              "    .dataframe tbody tr th {\n",
              "        vertical-align: top;\n",
              "    }\n",
              "\n",
              "    .dataframe thead th {\n",
              "        text-align: right;\n",
              "    }\n",
              "</style>\n",
              "<table border=\"1\" class=\"dataframe\">\n",
              "  <thead>\n",
              "    <tr style=\"text-align: right;\">\n",
              "      <th></th>\n",
              "      <th>overall</th>\n",
              "      <th>PERSON</th>\n",
              "      <th>NORP</th>\n",
              "      <th>FAC</th>\n",
              "      <th>GPE</th>\n",
              "      <th>LOC</th>\n",
              "      <th>EVENT</th>\n",
              "      <th>ORG</th>\n",
              "      <th>PRODUCT</th>\n",
              "      <th>WORK_OF_ART</th>\n",
              "      <th>LAW</th>\n",
              "      <th>ORDINAL</th>\n",
              "      <th>DATE</th>\n",
              "      <th>TIME</th>\n",
              "      <th>PERCENT</th>\n",
              "      <th>MONEY</th>\n",
              "      <th>QUANTITY</th>\n",
              "      <th>CARDINAL</th>\n",
              "      <th>OTHER</th>\n",
              "    </tr>\n",
              "  </thead>\n",
              "  <tbody>\n",
              "    <tr>\n",
              "      <th>EM</th>\n",
              "      <td>57.939842</td>\n",
              "      <td>68.686869</td>\n",
              "      <td>60.655738</td>\n",
              "      <td>68.75</td>\n",
              "      <td>70.731707</td>\n",
              "      <td>68.421053</td>\n",
              "      <td>62.500000</td>\n",
              "      <td>68.098160</td>\n",
              "      <td>50.000000</td>\n",
              "      <td>36.363636</td>\n",
              "      <td>66.666667</td>\n",
              "      <td>57.142857</td>\n",
              "      <td>82.889734</td>\n",
              "      <td>66.666667</td>\n",
              "      <td>78.947368</td>\n",
              "      <td>50.000000</td>\n",
              "      <td>44.444444</td>\n",
              "      <td>79.487179</td>\n",
              "      <td>54.893964</td>\n",
              "    </tr>\n",
              "    <tr>\n",
              "      <th>F1</th>\n",
              "      <td>61.379372</td>\n",
              "      <td>73.225108</td>\n",
              "      <td>65.586781</td>\n",
              "      <td>71.25</td>\n",
              "      <td>73.710977</td>\n",
              "      <td>73.483709</td>\n",
              "      <td>63.888889</td>\n",
              "      <td>72.483999</td>\n",
              "      <td>54.761905</td>\n",
              "      <td>48.484848</td>\n",
              "      <td>77.777778</td>\n",
              "      <td>57.142857</td>\n",
              "      <td>85.995000</td>\n",
              "      <td>77.777778</td>\n",
              "      <td>78.947368</td>\n",
              "      <td>65.277778</td>\n",
              "      <td>51.851852</td>\n",
              "      <td>82.058065</td>\n",
              "      <td>58.234641</td>\n",
              "    </tr>\n",
              "    <tr>\n",
              "      <th>AvNA</th>\n",
              "      <td>68.408671</td>\n",
              "      <td>87.373737</td>\n",
              "      <td>85.245902</td>\n",
              "      <td>81.25</td>\n",
              "      <td>84.552846</td>\n",
              "      <td>84.210526</td>\n",
              "      <td>87.500000</td>\n",
              "      <td>85.276074</td>\n",
              "      <td>58.333333</td>\n",
              "      <td>72.727273</td>\n",
              "      <td>100.000000</td>\n",
              "      <td>57.142857</td>\n",
              "      <td>92.015209</td>\n",
              "      <td>83.333333</td>\n",
              "      <td>84.210526</td>\n",
              "      <td>91.666667</td>\n",
              "      <td>77.777778</td>\n",
              "      <td>87.179487</td>\n",
              "      <td>64.477977</td>\n",
              "    </tr>\n",
              "  </tbody>\n",
              "</table>\n",
              "</div>"
            ],
            "text/plain": [
              "        overall     PERSON       NORP    FAC        GPE        LOC      EVENT  \\\n",
              "EM    57.939842  68.686869  60.655738  68.75  70.731707  68.421053  62.500000   \n",
              "F1    61.379372  73.225108  65.586781  71.25  73.710977  73.483709  63.888889   \n",
              "AvNA  68.408671  87.373737  85.245902  81.25  84.552846  84.210526  87.500000   \n",
              "\n",
              "            ORG    PRODUCT  WORK_OF_ART         LAW    ORDINAL       DATE  \\\n",
              "EM    68.098160  50.000000    36.363636   66.666667  57.142857  82.889734   \n",
              "F1    72.483999  54.761905    48.484848   77.777778  57.142857  85.995000   \n",
              "AvNA  85.276074  58.333333    72.727273  100.000000  57.142857  92.015209   \n",
              "\n",
              "           TIME    PERCENT      MONEY   QUANTITY   CARDINAL      OTHER  \n",
              "EM    66.666667  78.947368  50.000000  44.444444  79.487179  54.893964  \n",
              "F1    77.777778  78.947368  65.277778  51.851852  82.058065  58.234641  \n",
              "AvNA  83.333333  84.210526  91.666667  77.777778  87.179487  64.477977  "
            ]
          },
          "execution_count": 74,
          "metadata": {},
          "output_type": "execute_result"
        }
      ],
      "source": [
        "bidaf_anstype = ans_type_performance(bidaf_pred_df, dev_truth)\n",
        "bidaf_anstype"
      ]
    },
    {
      "cell_type": "code",
      "execution_count": null,
      "metadata": {
        "id": "CZ6CY91YEv9y",
        "outputId": "6e786986-de9f-4702-b24f-b225fc1ea15b"
      },
      "outputs": [
        {
          "data": {
            "text/html": [
              "<div>\n",
              "<style scoped>\n",
              "    .dataframe tbody tr th:only-of-type {\n",
              "        vertical-align: middle;\n",
              "    }\n",
              "\n",
              "    .dataframe tbody tr th {\n",
              "        vertical-align: top;\n",
              "    }\n",
              "\n",
              "    .dataframe thead th {\n",
              "        text-align: right;\n",
              "    }\n",
              "</style>\n",
              "<table border=\"1\" class=\"dataframe\">\n",
              "  <thead>\n",
              "    <tr style=\"text-align: right;\">\n",
              "      <th></th>\n",
              "      <th>overall</th>\n",
              "      <th>who</th>\n",
              "      <th>when</th>\n",
              "      <th>where</th>\n",
              "      <th>what</th>\n",
              "      <th>why</th>\n",
              "      <th>which</th>\n",
              "      <th>how</th>\n",
              "      <th>other</th>\n",
              "    </tr>\n",
              "  </thead>\n",
              "  <tbody>\n",
              "    <tr>\n",
              "      <th>EM</th>\n",
              "      <td>61.418249</td>\n",
              "      <td>63.955343</td>\n",
              "      <td>67.225326</td>\n",
              "      <td>58.431373</td>\n",
              "      <td>61.316501</td>\n",
              "      <td>47.674419</td>\n",
              "      <td>64.976959</td>\n",
              "      <td>57.581227</td>\n",
              "      <td>58.333333</td>\n",
              "    </tr>\n",
              "    <tr>\n",
              "      <th>F1</th>\n",
              "      <td>64.832176</td>\n",
              "      <td>66.630503</td>\n",
              "      <td>68.536640</td>\n",
              "      <td>63.580094</td>\n",
              "      <td>64.582737</td>\n",
              "      <td>56.430911</td>\n",
              "      <td>70.046589</td>\n",
              "      <td>62.350255</td>\n",
              "      <td>61.953664</td>\n",
              "    </tr>\n",
              "    <tr>\n",
              "      <th>AvNA</th>\n",
              "      <td>70.929256</td>\n",
              "      <td>71.610845</td>\n",
              "      <td>73.743017</td>\n",
              "      <td>70.588235</td>\n",
              "      <td>70.754433</td>\n",
              "      <td>67.441860</td>\n",
              "      <td>78.341014</td>\n",
              "      <td>67.328520</td>\n",
              "      <td>69.252874</td>\n",
              "    </tr>\n",
              "  </tbody>\n",
              "</table>\n",
              "</div>"
            ],
            "text/plain": [
              "        overall        who       when      where       what        why  \\\n",
              "EM    61.418249  63.955343  67.225326  58.431373  61.316501  47.674419   \n",
              "F1    64.832176  66.630503  68.536640  63.580094  64.582737  56.430911   \n",
              "AvNA  70.929256  71.610845  73.743017  70.588235  70.754433  67.441860   \n",
              "\n",
              "          which        how      other  \n",
              "EM    64.976959  57.581227  58.333333  \n",
              "F1    70.046589  62.350255  61.953664  \n",
              "AvNA  78.341014  67.328520  69.252874  "
            ]
          },
          "execution_count": 75,
          "metadata": {},
          "output_type": "execute_result"
        }
      ],
      "source": [
        "bidaf_charEmb_df = pd.read_csv(\"save/test/baseline_char_emb_dev_eval-01/dev_submission.csv\")\n",
        "bidaf_charEmb_qtype = q_type_performance(bidaf_charEmb_df, dev_truth)\n",
        "bidaf_charEmb_qtype"
      ]
    },
    {
      "cell_type": "code",
      "execution_count": null,
      "metadata": {
        "id": "Z3pDhwYgEv9y",
        "outputId": "670f3fad-a7f9-4e76-a168-23d3f1ceb30d"
      },
      "outputs": [
        {
          "data": {
            "text/html": [
              "<div>\n",
              "<style scoped>\n",
              "    .dataframe tbody tr th:only-of-type {\n",
              "        vertical-align: middle;\n",
              "    }\n",
              "\n",
              "    .dataframe tbody tr th {\n",
              "        vertical-align: top;\n",
              "    }\n",
              "\n",
              "    .dataframe thead th {\n",
              "        text-align: right;\n",
              "    }\n",
              "</style>\n",
              "<table border=\"1\" class=\"dataframe\">\n",
              "  <thead>\n",
              "    <tr style=\"text-align: right;\">\n",
              "      <th></th>\n",
              "      <th>overall</th>\n",
              "      <th>person</th>\n",
              "      <th>date</th>\n",
              "      <th>thing</th>\n",
              "      <th>location</th>\n",
              "      <th>quantity</th>\n",
              "      <th>description</th>\n",
              "      <th>other</th>\n",
              "    </tr>\n",
              "  </thead>\n",
              "  <tbody>\n",
              "    <tr>\n",
              "      <th>EM</th>\n",
              "      <td>61.418249</td>\n",
              "      <td>65.625000</td>\n",
              "      <td>67.170330</td>\n",
              "      <td>60.383598</td>\n",
              "      <td>61.374408</td>\n",
              "      <td>62.639821</td>\n",
              "      <td>46.913580</td>\n",
              "      <td>58.119658</td>\n",
              "    </tr>\n",
              "    <tr>\n",
              "      <th>F1</th>\n",
              "      <td>64.832176</td>\n",
              "      <td>68.273087</td>\n",
              "      <td>68.546422</td>\n",
              "      <td>64.008261</td>\n",
              "      <td>65.154614</td>\n",
              "      <td>66.233976</td>\n",
              "      <td>54.908634</td>\n",
              "      <td>61.709046</td>\n",
              "    </tr>\n",
              "    <tr>\n",
              "      <th>AvNA</th>\n",
              "      <td>70.929256</td>\n",
              "      <td>74.048913</td>\n",
              "      <td>73.076923</td>\n",
              "      <td>70.171958</td>\n",
              "      <td>72.985782</td>\n",
              "      <td>70.917226</td>\n",
              "      <td>63.786008</td>\n",
              "      <td>68.945869</td>\n",
              "    </tr>\n",
              "  </tbody>\n",
              "</table>\n",
              "</div>"
            ],
            "text/plain": [
              "        overall     person       date      thing   location   quantity  \\\n",
              "EM    61.418249  65.625000  67.170330  60.383598  61.374408  62.639821   \n",
              "F1    64.832176  68.273087  68.546422  64.008261  65.154614  66.233976   \n",
              "AvNA  70.929256  74.048913  73.076923  70.171958  72.985782  70.917226   \n",
              "\n",
              "      description      other  \n",
              "EM      46.913580  58.119658  \n",
              "F1      54.908634  61.709046  \n",
              "AvNA    63.786008  68.945869  "
            ]
          },
          "execution_count": 76,
          "metadata": {},
          "output_type": "execute_result"
        }
      ],
      "source": [
        "bidaf_charEmb_up_qtype = new_q_type_performance(bidaf_charEmb_df, dev_truth)\n",
        "bidaf_charEmb_up_qtype"
      ]
    },
    {
      "cell_type": "code",
      "execution_count": null,
      "metadata": {
        "id": "1o0PwjpB7smK",
        "outputId": "9cf1e626-994c-48e0-a97c-daf500b4fd1a"
      },
      "outputs": [
        {
          "data": {
            "text/html": [
              "<div>\n",
              "<style scoped>\n",
              "    .dataframe tbody tr th:only-of-type {\n",
              "        vertical-align: middle;\n",
              "    }\n",
              "\n",
              "    .dataframe tbody tr th {\n",
              "        vertical-align: top;\n",
              "    }\n",
              "\n",
              "    .dataframe thead th {\n",
              "        text-align: right;\n",
              "    }\n",
              "</style>\n",
              "<table border=\"1\" class=\"dataframe\">\n",
              "  <thead>\n",
              "    <tr style=\"text-align: right;\">\n",
              "      <th></th>\n",
              "      <th>overall</th>\n",
              "      <th>PERSON</th>\n",
              "      <th>NORP</th>\n",
              "      <th>FAC</th>\n",
              "      <th>GPE</th>\n",
              "      <th>LOC</th>\n",
              "      <th>EVENT</th>\n",
              "      <th>ORG</th>\n",
              "      <th>PRODUCT</th>\n",
              "      <th>WORK_OF_ART</th>\n",
              "      <th>LAW</th>\n",
              "      <th>ORDINAL</th>\n",
              "      <th>DATE</th>\n",
              "      <th>TIME</th>\n",
              "      <th>PERCENT</th>\n",
              "      <th>MONEY</th>\n",
              "      <th>QUANTITY</th>\n",
              "      <th>CARDINAL</th>\n",
              "      <th>OTHER</th>\n",
              "    </tr>\n",
              "  </thead>\n",
              "  <tbody>\n",
              "    <tr>\n",
              "      <th>EM</th>\n",
              "      <td>61.418249</td>\n",
              "      <td>76.262626</td>\n",
              "      <td>75.409836</td>\n",
              "      <td>68.75</td>\n",
              "      <td>72.357724</td>\n",
              "      <td>78.947368</td>\n",
              "      <td>50.000000</td>\n",
              "      <td>74.846626</td>\n",
              "      <td>58.333333</td>\n",
              "      <td>54.545455</td>\n",
              "      <td>100.0</td>\n",
              "      <td>42.857143</td>\n",
              "      <td>82.129278</td>\n",
              "      <td>83.333333</td>\n",
              "      <td>84.210526</td>\n",
              "      <td>66.666667</td>\n",
              "      <td>44.444444</td>\n",
              "      <td>82.905983</td>\n",
              "      <td>58.156607</td>\n",
              "    </tr>\n",
              "    <tr>\n",
              "      <th>F1</th>\n",
              "      <td>64.832176</td>\n",
              "      <td>78.926567</td>\n",
              "      <td>81.502732</td>\n",
              "      <td>68.75</td>\n",
              "      <td>75.525874</td>\n",
              "      <td>78.947368</td>\n",
              "      <td>56.818182</td>\n",
              "      <td>78.705579</td>\n",
              "      <td>58.333333</td>\n",
              "      <td>54.545455</td>\n",
              "      <td>100.0</td>\n",
              "      <td>67.777778</td>\n",
              "      <td>84.850625</td>\n",
              "      <td>94.444444</td>\n",
              "      <td>84.210526</td>\n",
              "      <td>76.984127</td>\n",
              "      <td>63.756614</td>\n",
              "      <td>84.973545</td>\n",
              "      <td>61.592081</td>\n",
              "    </tr>\n",
              "    <tr>\n",
              "      <th>AvNA</th>\n",
              "      <td>70.929256</td>\n",
              "      <td>88.888889</td>\n",
              "      <td>93.442623</td>\n",
              "      <td>87.50</td>\n",
              "      <td>86.178862</td>\n",
              "      <td>89.473684</td>\n",
              "      <td>75.000000</td>\n",
              "      <td>86.503067</td>\n",
              "      <td>66.666667</td>\n",
              "      <td>81.818182</td>\n",
              "      <td>100.0</td>\n",
              "      <td>85.714286</td>\n",
              "      <td>88.973384</td>\n",
              "      <td>100.000000</td>\n",
              "      <td>89.473684</td>\n",
              "      <td>100.000000</td>\n",
              "      <td>77.777778</td>\n",
              "      <td>90.598291</td>\n",
              "      <td>67.210440</td>\n",
              "    </tr>\n",
              "  </tbody>\n",
              "</table>\n",
              "</div>"
            ],
            "text/plain": [
              "        overall     PERSON       NORP    FAC        GPE        LOC      EVENT  \\\n",
              "EM    61.418249  76.262626  75.409836  68.75  72.357724  78.947368  50.000000   \n",
              "F1    64.832176  78.926567  81.502732  68.75  75.525874  78.947368  56.818182   \n",
              "AvNA  70.929256  88.888889  93.442623  87.50  86.178862  89.473684  75.000000   \n",
              "\n",
              "            ORG    PRODUCT  WORK_OF_ART    LAW    ORDINAL       DATE  \\\n",
              "EM    74.846626  58.333333    54.545455  100.0  42.857143  82.129278   \n",
              "F1    78.705579  58.333333    54.545455  100.0  67.777778  84.850625   \n",
              "AvNA  86.503067  66.666667    81.818182  100.0  85.714286  88.973384   \n",
              "\n",
              "            TIME    PERCENT       MONEY   QUANTITY   CARDINAL      OTHER  \n",
              "EM     83.333333  84.210526   66.666667  44.444444  82.905983  58.156607  \n",
              "F1     94.444444  84.210526   76.984127  63.756614  84.973545  61.592081  \n",
              "AvNA  100.000000  89.473684  100.000000  77.777778  90.598291  67.210440  "
            ]
          },
          "execution_count": 77,
          "metadata": {},
          "output_type": "execute_result"
        }
      ],
      "source": [
        "bidaf_charEmb_anstype = ans_type_performance(bidaf_charEmb_df, dev_truth)\n",
        "bidaf_charEmb_anstype"
      ]
    },
    {
      "cell_type": "code",
      "execution_count": null,
      "metadata": {
        "id": "R4tnvxKbEv9y",
        "outputId": "90f337f9-5e5b-414c-a43b-9ee62ea49edc"
      },
      "outputs": [
        {
          "data": {
            "text/html": [
              "<div>\n",
              "<style scoped>\n",
              "    .dataframe tbody tr th:only-of-type {\n",
              "        vertical-align: middle;\n",
              "    }\n",
              "\n",
              "    .dataframe tbody tr th {\n",
              "        vertical-align: top;\n",
              "    }\n",
              "\n",
              "    .dataframe thead th {\n",
              "        text-align: right;\n",
              "    }\n",
              "</style>\n",
              "<table border=\"1\" class=\"dataframe\">\n",
              "  <thead>\n",
              "    <tr style=\"text-align: right;\">\n",
              "      <th></th>\n",
              "      <th>overall</th>\n",
              "      <th>who</th>\n",
              "      <th>when</th>\n",
              "      <th>where</th>\n",
              "      <th>what</th>\n",
              "      <th>why</th>\n",
              "      <th>which</th>\n",
              "      <th>how</th>\n",
              "      <th>other</th>\n",
              "    </tr>\n",
              "  </thead>\n",
              "  <tbody>\n",
              "    <tr>\n",
              "      <th>EM</th>\n",
              "      <td>61.939170</td>\n",
              "      <td>62.360447</td>\n",
              "      <td>68.342644</td>\n",
              "      <td>61.176471</td>\n",
              "      <td>61.617072</td>\n",
              "      <td>50.000000</td>\n",
              "      <td>64.055300</td>\n",
              "      <td>60.108303</td>\n",
              "      <td>59.482759</td>\n",
              "    </tr>\n",
              "    <tr>\n",
              "      <th>F1</th>\n",
              "      <td>65.192120</td>\n",
              "      <td>64.954242</td>\n",
              "      <td>69.889620</td>\n",
              "      <td>64.988844</td>\n",
              "      <td>64.960912</td>\n",
              "      <td>60.058063</td>\n",
              "      <td>68.223612</td>\n",
              "      <td>64.255352</td>\n",
              "      <td>61.601088</td>\n",
              "    </tr>\n",
              "    <tr>\n",
              "      <th>AvNA</th>\n",
              "      <td>71.130902</td>\n",
              "      <td>69.856459</td>\n",
              "      <td>74.860335</td>\n",
              "      <td>71.764706</td>\n",
              "      <td>71.055005</td>\n",
              "      <td>68.604651</td>\n",
              "      <td>76.497696</td>\n",
              "      <td>69.675090</td>\n",
              "      <td>67.528736</td>\n",
              "    </tr>\n",
              "  </tbody>\n",
              "</table>\n",
              "</div>"
            ],
            "text/plain": [
              "        overall        who       when      where       what        why  \\\n",
              "EM    61.939170  62.360447  68.342644  61.176471  61.617072  50.000000   \n",
              "F1    65.192120  64.954242  69.889620  64.988844  64.960912  60.058063   \n",
              "AvNA  71.130902  69.856459  74.860335  71.764706  71.055005  68.604651   \n",
              "\n",
              "          which        how      other  \n",
              "EM    64.055300  60.108303  59.482759  \n",
              "F1    68.223612  64.255352  61.601088  \n",
              "AvNA  76.497696  69.675090  67.528736  "
            ]
          },
          "execution_count": 78,
          "metadata": {},
          "output_type": "execute_result"
        }
      ],
      "source": [
        "qanet_milestone_pred_df = pd.read_csv(\"save/test/qanet_base.dev.performance-01/dev_submission.csv\")\n",
        "qanet_milestone_qtype = q_type_performance(qanet_milestone_pred_df, dev_truth)\n",
        "qanet_milestone_qtype"
      ]
    },
    {
      "cell_type": "code",
      "execution_count": null,
      "metadata": {
        "id": "OaNtP2uYEv9y",
        "outputId": "2c1353f4-1f66-4628-bc55-de5da251e97e"
      },
      "outputs": [
        {
          "data": {
            "text/html": [
              "<div>\n",
              "<style scoped>\n",
              "    .dataframe tbody tr th:only-of-type {\n",
              "        vertical-align: middle;\n",
              "    }\n",
              "\n",
              "    .dataframe tbody tr th {\n",
              "        vertical-align: top;\n",
              "    }\n",
              "\n",
              "    .dataframe thead th {\n",
              "        text-align: right;\n",
              "    }\n",
              "</style>\n",
              "<table border=\"1\" class=\"dataframe\">\n",
              "  <thead>\n",
              "    <tr style=\"text-align: right;\">\n",
              "      <th></th>\n",
              "      <th>overall</th>\n",
              "      <th>person</th>\n",
              "      <th>date</th>\n",
              "      <th>thing</th>\n",
              "      <th>location</th>\n",
              "      <th>quantity</th>\n",
              "      <th>description</th>\n",
              "      <th>other</th>\n",
              "    </tr>\n",
              "  </thead>\n",
              "  <tbody>\n",
              "    <tr>\n",
              "      <th>EM</th>\n",
              "      <td>61.939170</td>\n",
              "      <td>63.315217</td>\n",
              "      <td>67.719780</td>\n",
              "      <td>60.945767</td>\n",
              "      <td>61.848341</td>\n",
              "      <td>67.114094</td>\n",
              "      <td>47.325103</td>\n",
              "      <td>59.259259</td>\n",
              "    </tr>\n",
              "    <tr>\n",
              "      <th>F1</th>\n",
              "      <td>65.192120</td>\n",
              "      <td>65.874256</td>\n",
              "      <td>69.198843</td>\n",
              "      <td>64.496985</td>\n",
              "      <td>65.240099</td>\n",
              "      <td>70.018235</td>\n",
              "      <td>56.347988</td>\n",
              "      <td>61.359483</td>\n",
              "    </tr>\n",
              "    <tr>\n",
              "      <th>AvNA</th>\n",
              "      <td>71.130902</td>\n",
              "      <td>72.282609</td>\n",
              "      <td>73.489011</td>\n",
              "      <td>70.502646</td>\n",
              "      <td>72.985782</td>\n",
              "      <td>74.049217</td>\n",
              "      <td>65.432099</td>\n",
              "      <td>67.236467</td>\n",
              "    </tr>\n",
              "  </tbody>\n",
              "</table>\n",
              "</div>"
            ],
            "text/plain": [
              "        overall     person       date      thing   location   quantity  \\\n",
              "EM    61.939170  63.315217  67.719780  60.945767  61.848341  67.114094   \n",
              "F1    65.192120  65.874256  69.198843  64.496985  65.240099  70.018235   \n",
              "AvNA  71.130902  72.282609  73.489011  70.502646  72.985782  74.049217   \n",
              "\n",
              "      description      other  \n",
              "EM      47.325103  59.259259  \n",
              "F1      56.347988  61.359483  \n",
              "AvNA    65.432099  67.236467  "
            ]
          },
          "execution_count": 79,
          "metadata": {},
          "output_type": "execute_result"
        }
      ],
      "source": [
        "qanet_milestone_up_qtype = new_q_type_performance(qanet_milestone_pred_df, dev_truth)\n",
        "qanet_milestone_up_qtype"
      ]
    },
    {
      "cell_type": "code",
      "execution_count": null,
      "metadata": {
        "id": "D6wT1rvl7smL",
        "outputId": "5eb54160-f12f-4a83-984b-544114219026"
      },
      "outputs": [
        {
          "data": {
            "text/html": [
              "<div>\n",
              "<style scoped>\n",
              "    .dataframe tbody tr th:only-of-type {\n",
              "        vertical-align: middle;\n",
              "    }\n",
              "\n",
              "    .dataframe tbody tr th {\n",
              "        vertical-align: top;\n",
              "    }\n",
              "\n",
              "    .dataframe thead th {\n",
              "        text-align: right;\n",
              "    }\n",
              "</style>\n",
              "<table border=\"1\" class=\"dataframe\">\n",
              "  <thead>\n",
              "    <tr style=\"text-align: right;\">\n",
              "      <th></th>\n",
              "      <th>overall</th>\n",
              "      <th>PERSON</th>\n",
              "      <th>NORP</th>\n",
              "      <th>FAC</th>\n",
              "      <th>GPE</th>\n",
              "      <th>LOC</th>\n",
              "      <th>EVENT</th>\n",
              "      <th>ORG</th>\n",
              "      <th>PRODUCT</th>\n",
              "      <th>WORK_OF_ART</th>\n",
              "      <th>LAW</th>\n",
              "      <th>ORDINAL</th>\n",
              "      <th>DATE</th>\n",
              "      <th>TIME</th>\n",
              "      <th>PERCENT</th>\n",
              "      <th>MONEY</th>\n",
              "      <th>QUANTITY</th>\n",
              "      <th>CARDINAL</th>\n",
              "      <th>OTHER</th>\n",
              "    </tr>\n",
              "  </thead>\n",
              "  <tbody>\n",
              "    <tr>\n",
              "      <th>EM</th>\n",
              "      <td>61.939170</td>\n",
              "      <td>74.747475</td>\n",
              "      <td>67.213115</td>\n",
              "      <td>62.500000</td>\n",
              "      <td>68.292683</td>\n",
              "      <td>73.684211</td>\n",
              "      <td>62.5000</td>\n",
              "      <td>69.325153</td>\n",
              "      <td>58.333333</td>\n",
              "      <td>54.545455</td>\n",
              "      <td>100.0</td>\n",
              "      <td>42.857143</td>\n",
              "      <td>85.551331</td>\n",
              "      <td>100.0</td>\n",
              "      <td>89.473684</td>\n",
              "      <td>66.666667</td>\n",
              "      <td>55.555556</td>\n",
              "      <td>86.324786</td>\n",
              "      <td>58.931485</td>\n",
              "    </tr>\n",
              "    <tr>\n",
              "      <th>F1</th>\n",
              "      <td>65.192120</td>\n",
              "      <td>77.852934</td>\n",
              "      <td>70.218579</td>\n",
              "      <td>64.583333</td>\n",
              "      <td>71.310668</td>\n",
              "      <td>84.035088</td>\n",
              "      <td>64.0625</td>\n",
              "      <td>71.929594</td>\n",
              "      <td>58.333333</td>\n",
              "      <td>54.545455</td>\n",
              "      <td>100.0</td>\n",
              "      <td>42.857143</td>\n",
              "      <td>86.845917</td>\n",
              "      <td>100.0</td>\n",
              "      <td>89.473684</td>\n",
              "      <td>87.354497</td>\n",
              "      <td>69.312169</td>\n",
              "      <td>87.708588</td>\n",
              "      <td>62.326144</td>\n",
              "    </tr>\n",
              "    <tr>\n",
              "      <th>AvNA</th>\n",
              "      <td>71.130902</td>\n",
              "      <td>88.383838</td>\n",
              "      <td>85.245902</td>\n",
              "      <td>81.250000</td>\n",
              "      <td>84.552846</td>\n",
              "      <td>89.473684</td>\n",
              "      <td>87.5000</td>\n",
              "      <td>82.208589</td>\n",
              "      <td>58.333333</td>\n",
              "      <td>72.727273</td>\n",
              "      <td>100.0</td>\n",
              "      <td>57.142857</td>\n",
              "      <td>90.494297</td>\n",
              "      <td>100.0</td>\n",
              "      <td>89.473684</td>\n",
              "      <td>100.000000</td>\n",
              "      <td>77.777778</td>\n",
              "      <td>91.452991</td>\n",
              "      <td>67.740620</td>\n",
              "    </tr>\n",
              "  </tbody>\n",
              "</table>\n",
              "</div>"
            ],
            "text/plain": [
              "        overall     PERSON       NORP        FAC        GPE        LOC  \\\n",
              "EM    61.939170  74.747475  67.213115  62.500000  68.292683  73.684211   \n",
              "F1    65.192120  77.852934  70.218579  64.583333  71.310668  84.035088   \n",
              "AvNA  71.130902  88.383838  85.245902  81.250000  84.552846  89.473684   \n",
              "\n",
              "        EVENT        ORG    PRODUCT  WORK_OF_ART    LAW    ORDINAL       DATE  \\\n",
              "EM    62.5000  69.325153  58.333333    54.545455  100.0  42.857143  85.551331   \n",
              "F1    64.0625  71.929594  58.333333    54.545455  100.0  42.857143  86.845917   \n",
              "AvNA  87.5000  82.208589  58.333333    72.727273  100.0  57.142857  90.494297   \n",
              "\n",
              "       TIME    PERCENT       MONEY   QUANTITY   CARDINAL      OTHER  \n",
              "EM    100.0  89.473684   66.666667  55.555556  86.324786  58.931485  \n",
              "F1    100.0  89.473684   87.354497  69.312169  87.708588  62.326144  \n",
              "AvNA  100.0  89.473684  100.000000  77.777778  91.452991  67.740620  "
            ]
          },
          "execution_count": 80,
          "metadata": {},
          "output_type": "execute_result"
        }
      ],
      "source": [
        "qanet_milestone_anstype = ans_type_performance(qanet_milestone_pred_df, dev_truth)\n",
        "qanet_milestone_anstype"
      ]
    },
    {
      "cell_type": "code",
      "execution_count": null,
      "metadata": {
        "id": "-9o28DmAEv9y",
        "outputId": "9c353f1a-abce-4268-c071-2d008cbdbf56"
      },
      "outputs": [
        {
          "data": {
            "text/html": [
              "<div>\n",
              "<style scoped>\n",
              "    .dataframe tbody tr th:only-of-type {\n",
              "        vertical-align: middle;\n",
              "    }\n",
              "\n",
              "    .dataframe tbody tr th {\n",
              "        vertical-align: top;\n",
              "    }\n",
              "\n",
              "    .dataframe thead th {\n",
              "        text-align: right;\n",
              "    }\n",
              "</style>\n",
              "<table border=\"1\" class=\"dataframe\">\n",
              "  <thead>\n",
              "    <tr style=\"text-align: right;\">\n",
              "      <th></th>\n",
              "      <th>overall</th>\n",
              "      <th>who</th>\n",
              "      <th>when</th>\n",
              "      <th>where</th>\n",
              "      <th>what</th>\n",
              "      <th>why</th>\n",
              "      <th>which</th>\n",
              "      <th>how</th>\n",
              "      <th>other</th>\n",
              "    </tr>\n",
              "  </thead>\n",
              "  <tbody>\n",
              "    <tr>\n",
              "      <th>EM</th>\n",
              "      <td>65.131911</td>\n",
              "      <td>66.826156</td>\n",
              "      <td>70.391061</td>\n",
              "      <td>60.784314</td>\n",
              "      <td>64.893297</td>\n",
              "      <td>53.488372</td>\n",
              "      <td>69.124424</td>\n",
              "      <td>61.913357</td>\n",
              "      <td>64.942529</td>\n",
              "    </tr>\n",
              "    <tr>\n",
              "      <th>F1</th>\n",
              "      <td>68.152292</td>\n",
              "      <td>68.615332</td>\n",
              "      <td>72.198998</td>\n",
              "      <td>64.831602</td>\n",
              "      <td>68.084695</td>\n",
              "      <td>62.689526</td>\n",
              "      <td>72.013386</td>\n",
              "      <td>65.951442</td>\n",
              "      <td>66.599066</td>\n",
              "    </tr>\n",
              "    <tr>\n",
              "      <th>AvNA</th>\n",
              "      <td>73.533860</td>\n",
              "      <td>72.567783</td>\n",
              "      <td>76.350093</td>\n",
              "      <td>72.156863</td>\n",
              "      <td>73.459573</td>\n",
              "      <td>74.418605</td>\n",
              "      <td>78.341014</td>\n",
              "      <td>71.119134</td>\n",
              "      <td>73.275862</td>\n",
              "    </tr>\n",
              "  </tbody>\n",
              "</table>\n",
              "</div>"
            ],
            "text/plain": [
              "        overall        who       when      where       what        why  \\\n",
              "EM    65.131911  66.826156  70.391061  60.784314  64.893297  53.488372   \n",
              "F1    68.152292  68.615332  72.198998  64.831602  68.084695  62.689526   \n",
              "AvNA  73.533860  72.567783  76.350093  72.156863  73.459573  74.418605   \n",
              "\n",
              "          which        how      other  \n",
              "EM    69.124424  61.913357  64.942529  \n",
              "F1    72.013386  65.951442  66.599066  \n",
              "AvNA  78.341014  71.119134  73.275862  "
            ]
          },
          "execution_count": 81,
          "metadata": {},
          "output_type": "execute_result"
        }
      ],
      "source": [
        "qanet_v2_df = pd.read_csv(\"save/test/qanet.v2.dev.eval-01/dev_submission.csv\")\n",
        "qanet_v2_qtype = q_type_performance(qanet_v2_df, dev_truth)\n",
        "qanet_v2_qtype"
      ]
    },
    {
      "cell_type": "code",
      "execution_count": null,
      "metadata": {
        "id": "GzzgTnxEEv9z",
        "outputId": "9e000a88-8d2f-4dbc-9306-6d6729c39358"
      },
      "outputs": [
        {
          "data": {
            "text/html": [
              "<div>\n",
              "<style scoped>\n",
              "    .dataframe tbody tr th:only-of-type {\n",
              "        vertical-align: middle;\n",
              "    }\n",
              "\n",
              "    .dataframe tbody tr th {\n",
              "        vertical-align: top;\n",
              "    }\n",
              "\n",
              "    .dataframe thead th {\n",
              "        text-align: right;\n",
              "    }\n",
              "</style>\n",
              "<table border=\"1\" class=\"dataframe\">\n",
              "  <thead>\n",
              "    <tr style=\"text-align: right;\">\n",
              "      <th></th>\n",
              "      <th>overall</th>\n",
              "      <th>person</th>\n",
              "      <th>date</th>\n",
              "      <th>thing</th>\n",
              "      <th>location</th>\n",
              "      <th>quantity</th>\n",
              "      <th>description</th>\n",
              "      <th>other</th>\n",
              "    </tr>\n",
              "  </thead>\n",
              "  <tbody>\n",
              "    <tr>\n",
              "      <th>EM</th>\n",
              "      <td>65.131911</td>\n",
              "      <td>67.391304</td>\n",
              "      <td>69.780220</td>\n",
              "      <td>64.715608</td>\n",
              "      <td>62.796209</td>\n",
              "      <td>66.890380</td>\n",
              "      <td>51.440329</td>\n",
              "      <td>64.387464</td>\n",
              "    </tr>\n",
              "    <tr>\n",
              "      <th>F1</th>\n",
              "      <td>68.152292</td>\n",
              "      <td>69.250652</td>\n",
              "      <td>71.586741</td>\n",
              "      <td>68.053130</td>\n",
              "      <td>65.974185</td>\n",
              "      <td>70.119935</td>\n",
              "      <td>58.625096</td>\n",
              "      <td>66.288843</td>\n",
              "    </tr>\n",
              "    <tr>\n",
              "      <th>AvNA</th>\n",
              "      <td>73.533860</td>\n",
              "      <td>74.048913</td>\n",
              "      <td>75.137363</td>\n",
              "      <td>73.313492</td>\n",
              "      <td>73.222749</td>\n",
              "      <td>75.615213</td>\n",
              "      <td>67.489712</td>\n",
              "      <td>72.934473</td>\n",
              "    </tr>\n",
              "  </tbody>\n",
              "</table>\n",
              "</div>"
            ],
            "text/plain": [
              "        overall     person       date      thing   location   quantity  \\\n",
              "EM    65.131911  67.391304  69.780220  64.715608  62.796209  66.890380   \n",
              "F1    68.152292  69.250652  71.586741  68.053130  65.974185  70.119935   \n",
              "AvNA  73.533860  74.048913  75.137363  73.313492  73.222749  75.615213   \n",
              "\n",
              "      description      other  \n",
              "EM      51.440329  64.387464  \n",
              "F1      58.625096  66.288843  \n",
              "AvNA    67.489712  72.934473  "
            ]
          },
          "execution_count": 82,
          "metadata": {},
          "output_type": "execute_result"
        }
      ],
      "source": [
        "qanet_v2_up_qtype = new_q_type_performance(qanet_v2_df, dev_truth)\n",
        "qanet_v2_up_qtype"
      ]
    },
    {
      "cell_type": "code",
      "execution_count": null,
      "metadata": {
        "id": "lg2jfrgH7smL",
        "outputId": "47a59f32-ea30-4081-b625-40356e0166da"
      },
      "outputs": [
        {
          "data": {
            "text/html": [
              "<div>\n",
              "<style scoped>\n",
              "    .dataframe tbody tr th:only-of-type {\n",
              "        vertical-align: middle;\n",
              "    }\n",
              "\n",
              "    .dataframe tbody tr th {\n",
              "        vertical-align: top;\n",
              "    }\n",
              "\n",
              "    .dataframe thead th {\n",
              "        text-align: right;\n",
              "    }\n",
              "</style>\n",
              "<table border=\"1\" class=\"dataframe\">\n",
              "  <thead>\n",
              "    <tr style=\"text-align: right;\">\n",
              "      <th></th>\n",
              "      <th>overall</th>\n",
              "      <th>PERSON</th>\n",
              "      <th>NORP</th>\n",
              "      <th>FAC</th>\n",
              "      <th>GPE</th>\n",
              "      <th>LOC</th>\n",
              "      <th>EVENT</th>\n",
              "      <th>ORG</th>\n",
              "      <th>PRODUCT</th>\n",
              "      <th>WORK_OF_ART</th>\n",
              "      <th>LAW</th>\n",
              "      <th>ORDINAL</th>\n",
              "      <th>DATE</th>\n",
              "      <th>TIME</th>\n",
              "      <th>PERCENT</th>\n",
              "      <th>MONEY</th>\n",
              "      <th>QUANTITY</th>\n",
              "      <th>CARDINAL</th>\n",
              "      <th>OTHER</th>\n",
              "    </tr>\n",
              "  </thead>\n",
              "  <tbody>\n",
              "    <tr>\n",
              "      <th>EM</th>\n",
              "      <td>65.131911</td>\n",
              "      <td>75.757576</td>\n",
              "      <td>65.573770</td>\n",
              "      <td>75.0</td>\n",
              "      <td>69.105691</td>\n",
              "      <td>73.684211</td>\n",
              "      <td>62.500000</td>\n",
              "      <td>77.300613</td>\n",
              "      <td>58.333333</td>\n",
              "      <td>72.727273</td>\n",
              "      <td>66.666667</td>\n",
              "      <td>42.857143</td>\n",
              "      <td>84.790875</td>\n",
              "      <td>50.000000</td>\n",
              "      <td>89.473684</td>\n",
              "      <td>58.333333</td>\n",
              "      <td>44.444444</td>\n",
              "      <td>82.905983</td>\n",
              "      <td>62.663132</td>\n",
              "    </tr>\n",
              "    <tr>\n",
              "      <th>F1</th>\n",
              "      <td>68.152292</td>\n",
              "      <td>79.066859</td>\n",
              "      <td>69.981785</td>\n",
              "      <td>75.0</td>\n",
              "      <td>71.099497</td>\n",
              "      <td>73.684211</td>\n",
              "      <td>73.214286</td>\n",
              "      <td>78.838871</td>\n",
              "      <td>69.155844</td>\n",
              "      <td>78.321678</td>\n",
              "      <td>66.666667</td>\n",
              "      <td>42.857143</td>\n",
              "      <td>87.655260</td>\n",
              "      <td>55.128205</td>\n",
              "      <td>89.473684</td>\n",
              "      <td>68.888889</td>\n",
              "      <td>53.086420</td>\n",
              "      <td>84.717135</td>\n",
              "      <td>65.737483</td>\n",
              "    </tr>\n",
              "    <tr>\n",
              "      <th>AvNA</th>\n",
              "      <td>73.533860</td>\n",
              "      <td>85.858586</td>\n",
              "      <td>83.606557</td>\n",
              "      <td>87.5</td>\n",
              "      <td>81.300813</td>\n",
              "      <td>78.947368</td>\n",
              "      <td>87.500000</td>\n",
              "      <td>84.662577</td>\n",
              "      <td>75.000000</td>\n",
              "      <td>100.000000</td>\n",
              "      <td>66.666667</td>\n",
              "      <td>42.857143</td>\n",
              "      <td>91.634981</td>\n",
              "      <td>66.666667</td>\n",
              "      <td>89.473684</td>\n",
              "      <td>91.666667</td>\n",
              "      <td>66.666667</td>\n",
              "      <td>91.452991</td>\n",
              "      <td>70.758564</td>\n",
              "    </tr>\n",
              "  </tbody>\n",
              "</table>\n",
              "</div>"
            ],
            "text/plain": [
              "        overall     PERSON       NORP   FAC        GPE        LOC      EVENT  \\\n",
              "EM    65.131911  75.757576  65.573770  75.0  69.105691  73.684211  62.500000   \n",
              "F1    68.152292  79.066859  69.981785  75.0  71.099497  73.684211  73.214286   \n",
              "AvNA  73.533860  85.858586  83.606557  87.5  81.300813  78.947368  87.500000   \n",
              "\n",
              "            ORG    PRODUCT  WORK_OF_ART        LAW    ORDINAL       DATE  \\\n",
              "EM    77.300613  58.333333    72.727273  66.666667  42.857143  84.790875   \n",
              "F1    78.838871  69.155844    78.321678  66.666667  42.857143  87.655260   \n",
              "AvNA  84.662577  75.000000   100.000000  66.666667  42.857143  91.634981   \n",
              "\n",
              "           TIME    PERCENT      MONEY   QUANTITY   CARDINAL      OTHER  \n",
              "EM    50.000000  89.473684  58.333333  44.444444  82.905983  62.663132  \n",
              "F1    55.128205  89.473684  68.888889  53.086420  84.717135  65.737483  \n",
              "AvNA  66.666667  89.473684  91.666667  66.666667  91.452991  70.758564  "
            ]
          },
          "execution_count": 83,
          "metadata": {},
          "output_type": "execute_result"
        }
      ],
      "source": [
        "qanet_v2_anstype = ans_type_performance(qanet_v2_df, dev_truth)\n",
        "qanet_v2_anstype"
      ]
    },
    {
      "cell_type": "code",
      "execution_count": null,
      "metadata": {
        "id": "4U4zYEDIEv9z"
      },
      "outputs": [],
      "source": [
        ""
      ]
    },
    {
      "cell_type": "code",
      "execution_count": null,
      "metadata": {
        "id": "DDIFnymVEv9z"
      },
      "outputs": [],
      "source": [
        ""
      ]
    },
    {
      "cell_type": "code",
      "execution_count": null,
      "metadata": {
        "id": "_ycSI4ee7smM",
        "outputId": "ca195f24-454a-465c-c623-48f76d090689"
      },
      "outputs": [
        {
          "data": {
            "image/png": "[encoded data removed]",
            "text/plain": [
              "<Figure size 432x288 with 1 Axes>"
            ]
          },
          "metadata": {
            "needs_background": "light"
          },
          "output_type": "display_data"
        }
      ],
      "source": [
        "# Make into pretty graphs \n",
        "def graph_em_f1(df, title):\n",
        "    use = df.drop(\"AvNA\")\n",
        "    use.T.plot.bar(rot=0)\n",
        "    plt.legend(loc='center left', bbox_to_anchor=(1.0, 0.5))\n",
        "    plt.title(title)\n",
        "    plt.xticks(rotation=90)\n",
        "    plt.xlabel(\"Question type\")\n",
        "    plt.ylabel(\"Performance %\")\n",
        "\n",
        "graph_em_f1(qanet_v2_qtype, \"QaNET Version 2: F1 VS EM Score \")"
      ]
    },
    {
      "cell_type": "code",
      "execution_count": null,
      "metadata": {
        "id": "ZEVnSKHuEv9z",
        "outputId": "b022fe3f-8582-4f0b-f465-bb7f812d941e"
      },
      "outputs": [
        {
          "data": {
            "image/png": "[encoded data removed]",
            "text/plain": [
              "<Figure size 432x288 with 1 Axes>"
            ]
          },
          "metadata": {
            "needs_background": "light"
          },
          "output_type": "display_data"
        }
      ],
      "source": [
        "graph_em_f1(qanet_v2_up_qtype, \"QaNET Version 2: F1 VS EM Score \")"
      ]
    },
    {
      "cell_type": "code",
      "execution_count": null,
      "metadata": {
        "id": "L57--mxtEv9z",
        "outputId": "b9bb518e-48c1-443e-fdfd-5d523aebfb5a"
      },
      "outputs": [
        {
          "data": {
            "image/png": "[encoded data removed]",
            "text/plain": [
              "<Figure size 432x288 with 1 Axes>"
            ]
          },
          "metadata": {
            "needs_background": "light"
          },
          "output_type": "display_data"
        }
      ],
      "source": [
        "graph_em_f1(qanet_v2_anstype, \"QaNET Version 2: F1 VS EM Score \")"
      ]
    },
    {
      "cell_type": "code",
      "execution_count": null,
      "metadata": {
        "id": "hXwUhvdT7smM",
        "outputId": "25790f93-1adf-4932-8970-33d41d2afd7b"
      },
      "outputs": [
        {
          "data": {
            "text/plain": [
              "Text(0.5, 1, 'Model Performance (F1 scores) by Question Word')"
            ]
          },
          "execution_count": 132,
          "metadata": {},
          "output_type": "execute_result"
        },
        {
          "data": {
            "image/png": "[encoded data removed]",
            "text/plain": [
              "<Figure size 1440x288 with 2 Axes>"
            ]
          },
          "metadata": {
            "needs_background": "light"
          },
          "output_type": "display_data"
        }
      ],
      "source": [
        "# Can also make a heatmap\n",
        "import seaborn as sns \n",
        "\n",
        "df_list = [ bidaf_qtype, bidaf_charEmb_qtype, qanet_milestone_qtype, qanet_v2_qtype]\n",
        "#\n",
        "f1 = pd.DataFrame()\n",
        "em = pd.DataFrame()\n",
        "f1\n",
        "for df in df_list:\n",
        "    temp = df[df.index==\"F1\"].rename(index={})\n",
        "    f1 = pd.concat([f1, temp], axis=0)\n",
        "    \n",
        "    temp2 = df[df.index==\"EM\"].rename(index={})\n",
        "    em = pd.concat([em, temp2], axis=0)\n",
        "\n",
        "f1 = f1.set_axis([\"Bidaf\", \"bidaf w/ char embeddings\", \"qanet\", \"qanet v2\"], axis=0, inplace=False)\n",
        "em = em.set_axis([\"Bidaf\", \"bidaf w/ char embeddings\", \"qanet\", \"qanet v2\"], axis=0, inplace=False)\n",
        "\n",
        "fig, ax = plt.subplots(figsize=(20,4))         # Sample figsize in inches\n",
        "sns.heatmap(f1,annot=True,fmt=\".2f\",annot_kws={\"fontsize\":14},ax=ax)\n",
        "plt.title(\"Model Performance (F1 scores) by Question Word\")"
      ]
    },
    {
      "cell_type": "code",
      "execution_count": null,
      "metadata": {
        "id": "ykzAVVcyEv9z",
        "outputId": "9cece581-9986-4360-e9a4-1dfdbd41542a"
      },
      "outputs": [
        {
          "data": {
            "text/plain": [
              "Text(0.5, 1, 'Model Performance (EM scores) by Question Word')"
            ]
          },
          "execution_count": 123,
          "metadata": {},
          "output_type": "execute_result"
        },
        {
          "data": {
            "image/png": "[encoded data removed]",
            "text/plain": [
              "<Figure size 1080x216 with 2 Axes>"
            ]
          },
          "metadata": {
            "needs_background": "light"
          },
          "output_type": "display_data"
        }
      ],
      "source": [
        "fig, ax = plt.subplots(figsize=(15,3))         # Sample figsize in inches\n",
        "sns.heatmap(em,annot=True,fmt=\".2f\",annot_kws={\"fontsize\":12},ax=ax)\n",
        "plt.title(\"Model Performance (EM scores) by Question Word\")"
      ]
    },
    {
      "cell_type": "markdown",
      "metadata": {
        "id": "OlKtDUdi7smN"
      },
      "source": [
        "Looking at performance for different buckets of answer lengths, context lengths\n",
        "\n",
        "\n",
        "\n"
      ]
    },
    {
      "cell_type": "code",
      "execution_count": null,
      "metadata": {
        "id": "YFU9DXzp7smN",
        "outputId": "d7c1d347-ec1c-43af-ce32-6abb22a5b729"
      },
      "outputs": [
        {
          "data": {
            "text/plain": [
              "Text(0.5, 1, 'Model Performance (F1 scores) by Question Type')"
            ]
          },
          "execution_count": 133,
          "metadata": {},
          "output_type": "execute_result"
        },
        {
          "data": {
            "image/png": "[encoded data removed]",
            "text/plain": [
              "<Figure size 1440x288 with 2 Axes>"
            ]
          },
          "metadata": {
            "needs_background": "light"
          },
          "output_type": "display_data"
        }
      ],
      "source": [
        "# Can also make a heatmap\n",
        "import seaborn as sns \n",
        "\n",
        "df_list = [ bidaf_up_qtype, bidaf_charEmb_up_qtype, qanet_milestone_up_qtype, qanet_v2_up_qtype]\n",
        "#\n",
        "f1 = pd.DataFrame()\n",
        "em = pd.DataFrame()\n",
        "f1\n",
        "for df in df_list:\n",
        "    temp = df[df.index==\"F1\"].rename(index={})\n",
        "    f1 = pd.concat([f1, temp], axis=0)\n",
        "    \n",
        "    temp2 = df[df.index==\"EM\"].rename(index={})\n",
        "    em = pd.concat([em, temp2], axis=0)\n",
        "\n",
        "f1 = f1.set_axis([\"Bidaf\", \"bidaf w/ char embeddings\", \"qanet\", \"qanet v2\"], axis=0, inplace=False)\n",
        "em = em.set_axis([\"Bidaf\", \"bidaf w/ char embeddings\", \"qanet\", \"qanet v2\"], axis=0, inplace=False)\n",
        "\n",
        "fig, ax = plt.subplots(figsize=(20,4))         # Sample figsize in inches\n",
        "sns.heatmap(f1,annot=True,fmt=\".2f\",annot_kws={\"fontsize\":14},ax=ax)\n",
        "plt.title(\"Model Performance (F1 scores) by Question Type\")"
      ]
    },
    {
      "cell_type": "code",
      "execution_count": null,
      "metadata": {
        "id": "YDhB_9geEv9z",
        "outputId": "4320418f-8a85-4bc5-d68c-7dd1ae8cd4d0"
      },
      "outputs": [
        {
          "data": {
            "text/plain": [
              "Text(0.5, 1, 'Model Performance (EM scores) by Question Type')"
            ]
          },
          "execution_count": 125,
          "metadata": {},
          "output_type": "execute_result"
        },
        {
          "data": {
            "image/png": "[encoded data removed]",
            "text/plain": [
              "<Figure size 1080x216 with 2 Axes>"
            ]
          },
          "metadata": {
            "needs_background": "light"
          },
          "output_type": "display_data"
        }
      ],
      "source": [
        "fig, ax = plt.subplots(figsize=(15,3))         # Sample figsize in inches\n",
        "sns.heatmap(em,annot=True,fmt=\".2f\",annot_kws={\"fontsize\":12},ax=ax)\n",
        "plt.title(\"Model Performance (EM scores) by Question Type\")"
      ]
    },
    {
      "cell_type": "code",
      "execution_count": null,
      "metadata": {
        "id": "BI2wcFoUEv90",
        "outputId": "3c4755f8-6f59-4df2-df88-d090628a652a"
      },
      "outputs": [
        {
          "data": {
            "text/plain": [
              "Text(0.5, 1, 'Model Performance (F1 scores) by Answer Entity Type')"
            ]
          },
          "execution_count": 134,
          "metadata": {},
          "output_type": "execute_result"
        },
        {
          "data": {
            "image/png": "[encoded data removed]",
            "text/plain": [
              "<Figure size 1440x288 with 2 Axes>"
            ]
          },
          "metadata": {
            "needs_background": "light"
          },
          "output_type": "display_data"
        }
      ],
      "source": [
        "# Can also make a heatmap\n",
        "import seaborn as sns \n",
        "\n",
        "df_list = [ bidaf_anstype, bidaf_charEmb_anstype, qanet_milestone_anstype, qanet_v2_anstype]\n",
        "#\n",
        "f1 = pd.DataFrame()\n",
        "em = pd.DataFrame()\n",
        "f1\n",
        "for df in df_list:\n",
        "    temp = df[df.index==\"F1\"].rename(index={})\n",
        "    f1 = pd.concat([f1, temp], axis=0)\n",
        "    \n",
        "    temp2 = df[df.index==\"EM\"].rename(index={})\n",
        "    em = pd.concat([em, temp2], axis=0)\n",
        "\n",
        "f1 = f1.set_axis([\"Bidaf\", \"bidaf w/ char embeddings\", \"qanet\", \"qanet v2\"], axis=0, inplace=False)\n",
        "em = em.set_axis([\"Bidaf\", \"bidaf w/ char embeddings\", \"qanet\", \"qanet v2\"], axis=0, inplace=False)\n",
        "\n",
        "fig, ax = plt.subplots(figsize=(20,4))         # Sample figsize in inches\n",
        "sns.heatmap(f1,annot=True,fmt=\".1f\",annot_kws={\"fontsize\":14},ax=ax)\n",
        "plt.title(\"Model Performance (F1 scores) by Answer Entity Type\")"
      ]
    },
    {
      "cell_type": "code",
      "execution_count": null,
      "metadata": {
        "id": "BNGpuUmsEv90",
        "outputId": "d229b634-adef-4f9f-d612-2d915c6371c2"
      },
      "outputs": [
        {
          "data": {
            "text/plain": [
              "Text(0.5, 1, 'Model Performance (EM scores) by Answer Entity Type')"
            ]
          },
          "execution_count": 129,
          "metadata": {},
          "output_type": "execute_result"
        },
        {
          "data": {
            "image/png": "[encoded data removed]",
            "text/plain": [
              "<Figure size 1080x216 with 2 Axes>"
            ]
          },
          "metadata": {
            "needs_background": "light"
          },
          "output_type": "display_data"
        }
      ],
      "source": [
        "fig, ax = plt.subplots(figsize=(15,3))         # Sample figsize in inches\n",
        "sns.heatmap(em,annot=True,fmt=\".1f\",annot_kws={\"fontsize\":12},ax=ax)\n",
        "plt.title(\"Model Performance (EM scores) by Answer Entity Type\")"
      ]
    },
    {
      "cell_type": "code",
      "execution_count": null,
      "metadata": {
        "id": "Bh-RSD65Ev90"
      },
      "outputs": [],
      "source": [
        ""
      ]
    }
  ],
  "metadata": {
    "colab": {
      "name": "final_analysis.ipynb",
      "provenance": []
    },
    "kernelspec": {
      "display_name": "Python 3",
      "language": "python",
      "name": "python3"
    },
    "language_info": {
      "codemirror_mode": {
        "name": "ipython",
        "version": 3
      },
      "file_extension": ".py",
      "mimetype": "text/x-python",
      "name": "python",
      "nbconvert_exporter": "python",
      "pygments_lexer": "ipython3",
      "version": "3.7.3"
    }
  },
  "nbformat": 4,
  "nbformat_minor": 0
}